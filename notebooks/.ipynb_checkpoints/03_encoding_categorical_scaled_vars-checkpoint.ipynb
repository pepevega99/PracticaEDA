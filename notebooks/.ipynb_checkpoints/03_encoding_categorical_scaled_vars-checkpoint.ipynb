{
 "cells": [
  {
   "cell_type": "code",
   "execution_count": 4,
   "id": "70019417",
   "metadata": {},
   "outputs": [],
   "source": [
    "import pandas as pd \n",
    "import numpy as np\n",
    "import sklearn\n",
    "from sklearn.pipeline import Pipeline\n",
    "from sklearn import metrics\n",
    "# conda install category_encoders\n",
    "import category_encoders as ce\n",
    "from sklearn.preprocessing import OneHotEncoder\n",
    "from sklearn.ensemble import GradientBoostingClassifier\n",
    "import matplotlib.pyplot as plt\n",
    "import seaborn as sns\n",
    "from sklearn.ensemble import RandomForestClassifier, AdaBoostClassifier\n",
    "from sklearn.preprocessing import StandardScaler\n",
    "\n",
    "from sklearn.metrics import classification_report, confusion_matrix, roc_curve, auc, \\\n",
    "                            silhouette_score, recall_score, precision_score, make_scorer, \\\n",
    "                            roc_auc_score, f1_score, precision_recall_curve, accuracy_score, roc_auc_score, \\\n",
    "                            classification_report, confusion_matrix\n",
    "\n",
    "from sklearn import metrics"
   ]
  },
  {
   "cell_type": "markdown",
   "id": "86c60f72",
   "metadata": {},
   "source": [
    "Leemos los datos de entreno y test construidor en el anterior Notebook."
   ]
  },
  {
   "cell_type": "code",
   "execution_count": 5,
   "id": "bfbea523",
   "metadata": {},
   "outputs": [],
   "source": [
    "pd_fraud_train=pd.read_csv(\"../data/train_pd_data_preprocessing_missing_outlier.csv\")"
   ]
  },
  {
   "cell_type": "code",
   "execution_count": 6,
   "id": "25246542",
   "metadata": {},
   "outputs": [],
   "source": [
    "pd_fraud_test=pd.read_csv(\"../data/test_pd_data_preprocessing_missing_outlier.csv\")"
   ]
  },
  {
   "cell_type": "markdown",
   "id": "dfd5059e",
   "metadata": {},
   "source": [
    "Eliminamos la variable \"Unnamed: 0\" que se creo al guardar el dataset en el anterior notebook y leerlo en el actual."
   ]
  },
  {
   "cell_type": "code",
   "execution_count": 7,
   "id": "b71fa4c4",
   "metadata": {},
   "outputs": [],
   "source": [
    "pd_fraud_train =pd_fraud_train.drop(columns=[\"Unnamed: 0\"])"
   ]
  },
  {
   "cell_type": "code",
   "execution_count": 8,
   "id": "9af6bc27",
   "metadata": {},
   "outputs": [],
   "source": [
    "pd_fraud_test=pd_fraud_test.drop(columns=[\"Unnamed: 0\"])"
   ]
  },
  {
   "cell_type": "markdown",
   "id": "2f8f155d",
   "metadata": {},
   "source": [
    "Listamos las variables que son categóricas y las numéricas. Identificamos el target."
   ]
  },
  {
   "cell_type": "code",
   "execution_count": 9,
   "id": "ed8f9880",
   "metadata": {},
   "outputs": [],
   "source": [
    "lista_variables_categoricas = [\"payment_type\",\"employment_status\",\"housing_status\",\"email_is_free\",\"phone_home_valid\",\n",
    "                                \"phone_mobile_valid\",\"has_other_cards\",\"foreign_request\",\"source\",\"device_os\",\"keep_alive_session\", \"fraud_bool\"]\n",
    "\n",
    "lista_variables_numericas = [\"income\", \"name_email_similarity\", \"prev_address_months_count\", \"current_address_months_count\", \"customer_age\", \"days_since_request\",\n",
    "                            \"intended_balcon_amount\", \"zip_count_4w\", \"velocity_6h\", \"velocity_24h\", \"velocity_4w\", \"bank_branch_count_8w\", \"date_of_birth_distinct_emails_4w\",\n",
    "                            \"credit_risk_score\", \"bank_months_count\", \"proposed_credit_limit\", \"session_length_in_minutes\", \"device_distinct_emails\", \"device_fraud_count\",\n",
    "                            \"month\"]\n",
    "target = 'fraud_bool'"
   ]
  },
  {
   "cell_type": "markdown",
   "id": "de2ac2e6",
   "metadata": {},
   "source": [
    "Asignamos en pd_fraud_train y a pd_fraud_test las variables categóricas en función del enunciado. Tambien ponemos la \n",
    "variable objetivo en String."
   ]
  },
  {
   "cell_type": "code",
   "execution_count": 10,
   "id": "4d752461",
   "metadata": {},
   "outputs": [],
   "source": [
    "for columna in lista_variables_categoricas:\n",
    "    pd_fraud_train[columna] = pd_fraud_train[columna].astype('category')"
   ]
  },
  {
   "cell_type": "code",
   "execution_count": 11,
   "id": "53f8d589",
   "metadata": {},
   "outputs": [],
   "source": [
    "for columna in lista_variables_categoricas:\n",
    "    pd_fraud_test[columna] = pd_fraud_test[columna].astype('category')"
   ]
  },
  {
   "cell_type": "code",
   "execution_count": 12,
   "id": "1492f30c",
   "metadata": {},
   "outputs": [],
   "source": [
    "pd_fraud_train[target] = pd_fraud_train[target].astype(str)"
   ]
  },
  {
   "cell_type": "code",
   "execution_count": 13,
   "id": "77b6a06f",
   "metadata": {},
   "outputs": [],
   "source": [
    "pd_fraud_test[target] = pd_fraud_test[target].astype(str)"
   ]
  },
  {
   "cell_type": "code",
   "execution_count": 14,
   "id": "e7c5c76f",
   "metadata": {},
   "outputs": [
    {
     "data": {
      "text/plain": [
       "Index(['income', 'device_fraud_count', 'device_distinct_emails_8w',\n",
       "       'keep_alive_session', 'device_os', 'session_length_in_minutes',\n",
       "       'source', 'foreign_request', 'proposed_credit_limit', 'has_other_cards',\n",
       "       'bank_months_count', 'phone_mobile_valid', 'phone_home_valid',\n",
       "       'housing_status', 'email_is_free', 'credit_risk_score',\n",
       "       'employment_status', 'date_of_birth_distinct_emails_4w',\n",
       "       'bank_branch_count_8w', 'velocity_4w', 'velocity_24h', 'velocity_6h',\n",
       "       'zip_count_4w', 'payment_type', 'intended_balcon_amount',\n",
       "       'days_since_request', 'customer_age', 'current_address_months_count',\n",
       "       'prev_address_months_count', 'name_email_similarity', 'month',\n",
       "       'fraud_bool'],\n",
       "      dtype='object')"
      ]
     },
     "execution_count": 14,
     "metadata": {},
     "output_type": "execute_result"
    }
   ],
   "source": [
    "pd_fraud_train.columns"
   ]
  },
  {
   "cell_type": "code",
   "execution_count": 15,
   "id": "7d9c0e9a",
   "metadata": {
    "scrolled": true
   },
   "outputs": [
    {
     "data": {
      "text/html": [
       "<div>\n",
       "<style scoped>\n",
       "    .dataframe tbody tr th:only-of-type {\n",
       "        vertical-align: middle;\n",
       "    }\n",
       "\n",
       "    .dataframe tbody tr th {\n",
       "        vertical-align: top;\n",
       "    }\n",
       "\n",
       "    .dataframe thead th {\n",
       "        text-align: right;\n",
       "    }\n",
       "</style>\n",
       "<table border=\"1\" class=\"dataframe\">\n",
       "  <thead>\n",
       "    <tr style=\"text-align: right;\">\n",
       "      <th></th>\n",
       "      <th>income</th>\n",
       "      <th>device_fraud_count</th>\n",
       "      <th>device_distinct_emails_8w</th>\n",
       "      <th>keep_alive_session</th>\n",
       "      <th>device_os</th>\n",
       "      <th>session_length_in_minutes</th>\n",
       "      <th>source</th>\n",
       "      <th>foreign_request</th>\n",
       "      <th>proposed_credit_limit</th>\n",
       "      <th>has_other_cards</th>\n",
       "      <th>...</th>\n",
       "      <th>zip_count_4w</th>\n",
       "      <th>payment_type</th>\n",
       "      <th>intended_balcon_amount</th>\n",
       "      <th>days_since_request</th>\n",
       "      <th>customer_age</th>\n",
       "      <th>current_address_months_count</th>\n",
       "      <th>prev_address_months_count</th>\n",
       "      <th>name_email_similarity</th>\n",
       "      <th>month</th>\n",
       "      <th>fraud_bool</th>\n",
       "    </tr>\n",
       "  </thead>\n",
       "  <tbody>\n",
       "    <tr>\n",
       "      <th>0</th>\n",
       "      <td>0.1</td>\n",
       "      <td>0</td>\n",
       "      <td>2</td>\n",
       "      <td>0</td>\n",
       "      <td>windows</td>\n",
       "      <td>4.765879</td>\n",
       "      <td>INTERNET</td>\n",
       "      <td>0</td>\n",
       "      <td>200.0</td>\n",
       "      <td>1</td>\n",
       "      <td>...</td>\n",
       "      <td>702</td>\n",
       "      <td>AA</td>\n",
       "      <td>51.989050</td>\n",
       "      <td>0.000973</td>\n",
       "      <td>20</td>\n",
       "      <td>123</td>\n",
       "      <td>9</td>\n",
       "      <td>0.666507</td>\n",
       "      <td>3</td>\n",
       "      <td>0</td>\n",
       "    </tr>\n",
       "    <tr>\n",
       "      <th>1</th>\n",
       "      <td>0.1</td>\n",
       "      <td>0</td>\n",
       "      <td>1</td>\n",
       "      <td>0</td>\n",
       "      <td>other</td>\n",
       "      <td>2.320816</td>\n",
       "      <td>INTERNET</td>\n",
       "      <td>0</td>\n",
       "      <td>200.0</td>\n",
       "      <td>0</td>\n",
       "      <td>...</td>\n",
       "      <td>1912</td>\n",
       "      <td>AC</td>\n",
       "      <td>-0.846897</td>\n",
       "      <td>0.025913</td>\n",
       "      <td>20</td>\n",
       "      <td>47</td>\n",
       "      <td>-1</td>\n",
       "      <td>0.104250</td>\n",
       "      <td>2</td>\n",
       "      <td>0</td>\n",
       "    </tr>\n",
       "    <tr>\n",
       "      <th>2</th>\n",
       "      <td>0.7</td>\n",
       "      <td>0</td>\n",
       "      <td>1</td>\n",
       "      <td>0</td>\n",
       "      <td>macintosh</td>\n",
       "      <td>4.915974</td>\n",
       "      <td>INTERNET</td>\n",
       "      <td>0</td>\n",
       "      <td>200.0</td>\n",
       "      <td>0</td>\n",
       "      <td>...</td>\n",
       "      <td>803</td>\n",
       "      <td>AA</td>\n",
       "      <td>30.834495</td>\n",
       "      <td>0.012854</td>\n",
       "      <td>30</td>\n",
       "      <td>38</td>\n",
       "      <td>-1</td>\n",
       "      <td>0.170225</td>\n",
       "      <td>5</td>\n",
       "      <td>0</td>\n",
       "    </tr>\n",
       "    <tr>\n",
       "      <th>3</th>\n",
       "      <td>0.9</td>\n",
       "      <td>0</td>\n",
       "      <td>1</td>\n",
       "      <td>0</td>\n",
       "      <td>linux</td>\n",
       "      <td>11.293747</td>\n",
       "      <td>INTERNET</td>\n",
       "      <td>0</td>\n",
       "      <td>1500.0</td>\n",
       "      <td>0</td>\n",
       "      <td>...</td>\n",
       "      <td>2047</td>\n",
       "      <td>AA</td>\n",
       "      <td>49.403584</td>\n",
       "      <td>0.006973</td>\n",
       "      <td>40</td>\n",
       "      <td>43</td>\n",
       "      <td>-1</td>\n",
       "      <td>0.048292</td>\n",
       "      <td>0</td>\n",
       "      <td>0</td>\n",
       "    </tr>\n",
       "    <tr>\n",
       "      <th>4</th>\n",
       "      <td>0.5</td>\n",
       "      <td>0</td>\n",
       "      <td>1</td>\n",
       "      <td>1</td>\n",
       "      <td>linux</td>\n",
       "      <td>17.379908</td>\n",
       "      <td>INTERNET</td>\n",
       "      <td>0</td>\n",
       "      <td>1500.0</td>\n",
       "      <td>0</td>\n",
       "      <td>...</td>\n",
       "      <td>1048</td>\n",
       "      <td>AA</td>\n",
       "      <td>19.718879</td>\n",
       "      <td>0.002393</td>\n",
       "      <td>30</td>\n",
       "      <td>62</td>\n",
       "      <td>-1</td>\n",
       "      <td>0.208401</td>\n",
       "      <td>3</td>\n",
       "      <td>0</td>\n",
       "    </tr>\n",
       "    <tr>\n",
       "      <th>...</th>\n",
       "      <td>...</td>\n",
       "      <td>...</td>\n",
       "      <td>...</td>\n",
       "      <td>...</td>\n",
       "      <td>...</td>\n",
       "      <td>...</td>\n",
       "      <td>...</td>\n",
       "      <td>...</td>\n",
       "      <td>...</td>\n",
       "      <td>...</td>\n",
       "      <td>...</td>\n",
       "      <td>...</td>\n",
       "      <td>...</td>\n",
       "      <td>...</td>\n",
       "      <td>...</td>\n",
       "      <td>...</td>\n",
       "      <td>...</td>\n",
       "      <td>...</td>\n",
       "      <td>...</td>\n",
       "      <td>...</td>\n",
       "      <td>...</td>\n",
       "    </tr>\n",
       "    <tr>\n",
       "      <th>199995</th>\n",
       "      <td>0.4</td>\n",
       "      <td>0</td>\n",
       "      <td>1</td>\n",
       "      <td>0</td>\n",
       "      <td>windows</td>\n",
       "      <td>10.901653</td>\n",
       "      <td>INTERNET</td>\n",
       "      <td>0</td>\n",
       "      <td>200.0</td>\n",
       "      <td>0</td>\n",
       "      <td>...</td>\n",
       "      <td>1988</td>\n",
       "      <td>AC</td>\n",
       "      <td>-1.386080</td>\n",
       "      <td>0.004987</td>\n",
       "      <td>20</td>\n",
       "      <td>7</td>\n",
       "      <td>295</td>\n",
       "      <td>0.999573</td>\n",
       "      <td>2</td>\n",
       "      <td>0</td>\n",
       "    </tr>\n",
       "    <tr>\n",
       "      <th>199996</th>\n",
       "      <td>0.3</td>\n",
       "      <td>0</td>\n",
       "      <td>1</td>\n",
       "      <td>0</td>\n",
       "      <td>other</td>\n",
       "      <td>11.050821</td>\n",
       "      <td>INTERNET</td>\n",
       "      <td>0</td>\n",
       "      <td>200.0</td>\n",
       "      <td>0</td>\n",
       "      <td>...</td>\n",
       "      <td>1229</td>\n",
       "      <td>AC</td>\n",
       "      <td>-1.384955</td>\n",
       "      <td>0.022960</td>\n",
       "      <td>60</td>\n",
       "      <td>362</td>\n",
       "      <td>-1</td>\n",
       "      <td>0.112571</td>\n",
       "      <td>3</td>\n",
       "      <td>0</td>\n",
       "    </tr>\n",
       "    <tr>\n",
       "      <th>199997</th>\n",
       "      <td>0.1</td>\n",
       "      <td>0</td>\n",
       "      <td>1</td>\n",
       "      <td>0</td>\n",
       "      <td>linux</td>\n",
       "      <td>4.659098</td>\n",
       "      <td>INTERNET</td>\n",
       "      <td>0</td>\n",
       "      <td>200.0</td>\n",
       "      <td>0</td>\n",
       "      <td>...</td>\n",
       "      <td>3522</td>\n",
       "      <td>AC</td>\n",
       "      <td>-0.752011</td>\n",
       "      <td>1.562825</td>\n",
       "      <td>20</td>\n",
       "      <td>201</td>\n",
       "      <td>-1</td>\n",
       "      <td>0.463289</td>\n",
       "      <td>2</td>\n",
       "      <td>0</td>\n",
       "    </tr>\n",
       "    <tr>\n",
       "      <th>199998</th>\n",
       "      <td>0.3</td>\n",
       "      <td>0</td>\n",
       "      <td>1</td>\n",
       "      <td>0</td>\n",
       "      <td>other</td>\n",
       "      <td>17.500754</td>\n",
       "      <td>INTERNET</td>\n",
       "      <td>0</td>\n",
       "      <td>200.0</td>\n",
       "      <td>1</td>\n",
       "      <td>...</td>\n",
       "      <td>1329</td>\n",
       "      <td>AB</td>\n",
       "      <td>-0.828912</td>\n",
       "      <td>0.009143</td>\n",
       "      <td>40</td>\n",
       "      <td>70</td>\n",
       "      <td>-1</td>\n",
       "      <td>0.097648</td>\n",
       "      <td>1</td>\n",
       "      <td>0</td>\n",
       "    </tr>\n",
       "    <tr>\n",
       "      <th>199999</th>\n",
       "      <td>0.2</td>\n",
       "      <td>0</td>\n",
       "      <td>1</td>\n",
       "      <td>0</td>\n",
       "      <td>other</td>\n",
       "      <td>3.385948</td>\n",
       "      <td>INTERNET</td>\n",
       "      <td>0</td>\n",
       "      <td>200.0</td>\n",
       "      <td>0</td>\n",
       "      <td>...</td>\n",
       "      <td>1071</td>\n",
       "      <td>AB</td>\n",
       "      <td>-1.464260</td>\n",
       "      <td>0.014333</td>\n",
       "      <td>20</td>\n",
       "      <td>20</td>\n",
       "      <td>-1</td>\n",
       "      <td>0.788680</td>\n",
       "      <td>3</td>\n",
       "      <td>0</td>\n",
       "    </tr>\n",
       "  </tbody>\n",
       "</table>\n",
       "<p>200000 rows × 32 columns</p>\n",
       "</div>"
      ],
      "text/plain": [
       "        income  device_fraud_count  device_distinct_emails_8w  \\\n",
       "0          0.1                   0                          2   \n",
       "1          0.1                   0                          1   \n",
       "2          0.7                   0                          1   \n",
       "3          0.9                   0                          1   \n",
       "4          0.5                   0                          1   \n",
       "...        ...                 ...                        ...   \n",
       "199995     0.4                   0                          1   \n",
       "199996     0.3                   0                          1   \n",
       "199997     0.1                   0                          1   \n",
       "199998     0.3                   0                          1   \n",
       "199999     0.2                   0                          1   \n",
       "\n",
       "       keep_alive_session  device_os  session_length_in_minutes    source  \\\n",
       "0                       0    windows                   4.765879  INTERNET   \n",
       "1                       0      other                   2.320816  INTERNET   \n",
       "2                       0  macintosh                   4.915974  INTERNET   \n",
       "3                       0      linux                  11.293747  INTERNET   \n",
       "4                       1      linux                  17.379908  INTERNET   \n",
       "...                   ...        ...                        ...       ...   \n",
       "199995                  0    windows                  10.901653  INTERNET   \n",
       "199996                  0      other                  11.050821  INTERNET   \n",
       "199997                  0      linux                   4.659098  INTERNET   \n",
       "199998                  0      other                  17.500754  INTERNET   \n",
       "199999                  0      other                   3.385948  INTERNET   \n",
       "\n",
       "       foreign_request  proposed_credit_limit has_other_cards  ...  \\\n",
       "0                    0                  200.0               1  ...   \n",
       "1                    0                  200.0               0  ...   \n",
       "2                    0                  200.0               0  ...   \n",
       "3                    0                 1500.0               0  ...   \n",
       "4                    0                 1500.0               0  ...   \n",
       "...                ...                    ...             ...  ...   \n",
       "199995               0                  200.0               0  ...   \n",
       "199996               0                  200.0               0  ...   \n",
       "199997               0                  200.0               0  ...   \n",
       "199998               0                  200.0               1  ...   \n",
       "199999               0                  200.0               0  ...   \n",
       "\n",
       "        zip_count_4w payment_type intended_balcon_amount days_since_request  \\\n",
       "0                702           AA              51.989050           0.000973   \n",
       "1               1912           AC              -0.846897           0.025913   \n",
       "2                803           AA              30.834495           0.012854   \n",
       "3               2047           AA              49.403584           0.006973   \n",
       "4               1048           AA              19.718879           0.002393   \n",
       "...              ...          ...                    ...                ...   \n",
       "199995          1988           AC              -1.386080           0.004987   \n",
       "199996          1229           AC              -1.384955           0.022960   \n",
       "199997          3522           AC              -0.752011           1.562825   \n",
       "199998          1329           AB              -0.828912           0.009143   \n",
       "199999          1071           AB              -1.464260           0.014333   \n",
       "\n",
       "       customer_age  current_address_months_count prev_address_months_count  \\\n",
       "0                20                           123                         9   \n",
       "1                20                            47                        -1   \n",
       "2                30                            38                        -1   \n",
       "3                40                            43                        -1   \n",
       "4                30                            62                        -1   \n",
       "...             ...                           ...                       ...   \n",
       "199995           20                             7                       295   \n",
       "199996           60                           362                        -1   \n",
       "199997           20                           201                        -1   \n",
       "199998           40                            70                        -1   \n",
       "199999           20                            20                        -1   \n",
       "\n",
       "        name_email_similarity  month  fraud_bool  \n",
       "0                    0.666507      3           0  \n",
       "1                    0.104250      2           0  \n",
       "2                    0.170225      5           0  \n",
       "3                    0.048292      0           0  \n",
       "4                    0.208401      3           0  \n",
       "...                       ...    ...         ...  \n",
       "199995               0.999573      2           0  \n",
       "199996               0.112571      3           0  \n",
       "199997               0.463289      2           0  \n",
       "199998               0.097648      1           0  \n",
       "199999               0.788680      3           0  \n",
       "\n",
       "[200000 rows x 32 columns]"
      ]
     },
     "execution_count": 15,
     "metadata": {},
     "output_type": "execute_result"
    }
   ],
   "source": [
    "pd_fraud_test"
   ]
  },
  {
   "cell_type": "markdown",
   "id": "07c304e5",
   "metadata": {},
   "source": [
    "Comprobamos que los tipos estan tal y como hemos planteado anteriormente."
   ]
  },
  {
   "cell_type": "code",
   "execution_count": 16,
   "id": "5b5663b8",
   "metadata": {
    "scrolled": true
   },
   "outputs": [
    {
     "data": {
      "text/plain": [
       "income                               float64\n",
       "device_fraud_count                     int64\n",
       "device_distinct_emails_8w              int64\n",
       "keep_alive_session                  category\n",
       "device_os                           category\n",
       "session_length_in_minutes            float64\n",
       "source                              category\n",
       "foreign_request                     category\n",
       "proposed_credit_limit                float64\n",
       "has_other_cards                     category\n",
       "bank_months_count                      int64\n",
       "phone_mobile_valid                  category\n",
       "phone_home_valid                    category\n",
       "housing_status                      category\n",
       "email_is_free                       category\n",
       "credit_risk_score                      int64\n",
       "employment_status                   category\n",
       "date_of_birth_distinct_emails_4w       int64\n",
       "bank_branch_count_8w                   int64\n",
       "velocity_4w                          float64\n",
       "velocity_24h                         float64\n",
       "velocity_6h                          float64\n",
       "zip_count_4w                           int64\n",
       "payment_type                        category\n",
       "intended_balcon_amount               float64\n",
       "days_since_request                   float64\n",
       "customer_age                           int64\n",
       "current_address_months_count           int64\n",
       "prev_address_months_count              int64\n",
       "name_email_similarity                float64\n",
       "month                                  int64\n",
       "fraud_bool                            object\n",
       "dtype: object"
      ]
     },
     "execution_count": 16,
     "metadata": {},
     "output_type": "execute_result"
    }
   ],
   "source": [
    "pd_fraud_train.dtypes"
   ]
  },
  {
   "cell_type": "markdown",
   "id": "c2b54d78",
   "metadata": {},
   "source": [
    "Hacemos un recuento de cuantas operaciones en el total del dataset han sido fraudulentas y cuantas no. Lo hacemos tanto con \n",
    "los valores 0 y 1 como con los valores Fraude y No fraude para que sea más legible."
   ]
  },
  {
   "cell_type": "code",
   "execution_count": 17,
   "id": "824d3233",
   "metadata": {},
   "outputs": [
    {
     "data": {
      "text/plain": [
       "fraud_bool\n",
       "0    791177\n",
       "1      8823\n",
       "Name: count, dtype: int64"
      ]
     },
     "execution_count": 17,
     "metadata": {},
     "output_type": "execute_result"
    }
   ],
   "source": [
    "pd_fraud_train['fraud_bool'].value_counts()"
   ]
  },
  {
   "cell_type": "code",
   "execution_count": 18,
   "id": "d529fb07",
   "metadata": {},
   "outputs": [],
   "source": [
    "# Creamos una copia del DataFrame original para evitar modificarlo directamente\n",
    "pd_fraud_train_str = pd_fraud_train.copy()\n",
    "\n",
    "# Reemplazamoos los valores en la columna 'fraud_bool'\n",
    "pd_fraud_train_str['fraud_bool'] = pd_fraud_train_str['fraud_bool'].map({\"0\": \"No fraude\", \"1\": \"Fraude\"})\n",
    "\n",
    "pd_fraud_test_str = pd_fraud_test.copy()\n",
    "\n",
    "pd_fraud_test_str['fraud_bool'] = pd_fraud_test_str['fraud_bool'].map({\"0\": \"No fraude\", \"1\": \"Fraude\"})\n",
    "\n"
   ]
  },
  {
   "cell_type": "code",
   "execution_count": 19,
   "id": "0633fa1b",
   "metadata": {},
   "outputs": [
    {
     "data": {
      "text/plain": [
       "fraud_bool\n",
       "No fraude    791177\n",
       "Fraude         8823\n",
       "Name: count, dtype: int64"
      ]
     },
     "execution_count": 19,
     "metadata": {},
     "output_type": "execute_result"
    }
   ],
   "source": [
    "pd_fraud_train_str['fraud_bool'].value_counts()"
   ]
  },
  {
   "cell_type": "code",
   "execution_count": 20,
   "id": "5b4841aa",
   "metadata": {},
   "outputs": [
    {
     "data": {
      "text/plain": [
       "fraud_bool\n",
       "No fraude    197794\n",
       "Fraude         2206\n",
       "Name: count, dtype: int64"
      ]
     },
     "execution_count": 20,
     "metadata": {},
     "output_type": "execute_result"
    }
   ],
   "source": [
    "pd_fraud_test_str['fraud_bool'].value_counts()"
   ]
  },
  {
   "cell_type": "code",
   "execution_count": 21,
   "id": "4ceb2834",
   "metadata": {
    "scrolled": true
   },
   "outputs": [
    {
     "data": {
      "text/plain": [
       "fraud_bool\n",
       "0    791177\n",
       "1      8823\n",
       "Name: count, dtype: int64"
      ]
     },
     "execution_count": 21,
     "metadata": {},
     "output_type": "execute_result"
    }
   ],
   "source": [
    "pd_fraud_train['fraud_bool'].value_counts()"
   ]
  },
  {
   "cell_type": "markdown",
   "id": "0827019b",
   "metadata": {},
   "source": [
    "Dividimos nuevamente pd_fraud train y pd_fraud test en conjuntos de entrenamiento y prueba. Utilizaremos X_train e y_train para \n",
    "entrenar el modelo mientras que evaluaremos la capacidad del mismo con X_test e y_test. La razón de esta división es para \n",
    "evitar el overfitting. Al mantener un conjunto de prueba separado que el modelo no ve durante el entrenamiento,\n",
    "podemos tener una mejor evaluación de su rendimiento en la práctica."
   ]
  },
  {
   "cell_type": "code",
   "execution_count": 22,
   "id": "563320f0",
   "metadata": {},
   "outputs": [],
   "source": [
    "X_train = pd_fraud_train.drop('fraud_bool',axis=1)\n",
    "X_test = pd_fraud_test.drop('fraud_bool',axis=1)\n",
    "y_train = pd_fraud_train['fraud_bool']\n",
    "y_test = pd_fraud_test['fraud_bool']"
   ]
  },
  {
   "cell_type": "code",
   "execution_count": 23,
   "id": "47dfd3ef",
   "metadata": {
    "scrolled": true
   },
   "outputs": [
    {
     "data": {
      "text/plain": [
       "income                               float64\n",
       "device_fraud_count                     int64\n",
       "device_distinct_emails_8w              int64\n",
       "keep_alive_session                  category\n",
       "device_os                           category\n",
       "session_length_in_minutes            float64\n",
       "source                              category\n",
       "foreign_request                     category\n",
       "proposed_credit_limit                float64\n",
       "has_other_cards                     category\n",
       "bank_months_count                      int64\n",
       "phone_mobile_valid                  category\n",
       "phone_home_valid                    category\n",
       "housing_status                      category\n",
       "email_is_free                       category\n",
       "credit_risk_score                      int64\n",
       "employment_status                   category\n",
       "date_of_birth_distinct_emails_4w       int64\n",
       "bank_branch_count_8w                   int64\n",
       "velocity_4w                          float64\n",
       "velocity_24h                         float64\n",
       "velocity_6h                          float64\n",
       "zip_count_4w                           int64\n",
       "payment_type                        category\n",
       "intended_balcon_amount               float64\n",
       "days_since_request                   float64\n",
       "customer_age                           int64\n",
       "current_address_months_count           int64\n",
       "prev_address_months_count              int64\n",
       "name_email_similarity                float64\n",
       "month                                  int64\n",
       "dtype: object"
      ]
     },
     "execution_count": 23,
     "metadata": {},
     "output_type": "execute_result"
    }
   ],
   "source": [
    "X_train.dtypes"
   ]
  },
  {
   "cell_type": "markdown",
   "id": "19aa92b6",
   "metadata": {},
   "source": [
    "Comprobamos el numero de columnas en X_train ya que posteriormente al hacer el OneHotEnconder queremos saber cuanto han\n",
    "aumentado el número de columnas."
   ]
  },
  {
   "cell_type": "code",
   "execution_count": 24,
   "id": "55478846",
   "metadata": {},
   "outputs": [
    {
     "data": {
      "text/plain": [
       "31"
      ]
     },
     "execution_count": 24,
     "metadata": {},
     "output_type": "execute_result"
    }
   ],
   "source": [
    "len(list(X_train.columns))"
   ]
  },
  {
   "cell_type": "markdown",
   "id": "0a1b10d8",
   "metadata": {},
   "source": [
    "Hacemos una lista con todos los nombres de las columnas que contienen variables \"object\" o \"category\" y otra lista que contengan\n",
    "todas aquellas columnas que no esten en la primera lista."
   ]
  },
  {
   "cell_type": "code",
   "execution_count": 25,
   "id": "38df0559",
   "metadata": {},
   "outputs": [
    {
     "name": "stdout",
     "output_type": "stream",
     "text": [
      "['keep_alive_session', 'device_os', 'source', 'foreign_request', 'has_other_cards', 'phone_mobile_valid', 'phone_home_valid', 'housing_status', 'email_is_free', 'employment_status', 'payment_type']\n"
     ]
    }
   ],
   "source": [
    "\n",
    "list_columns_cat = list(X_train.select_dtypes(include=['category', 'object']).columns)\n",
    "print(list_columns_cat)\n"
   ]
  },
  {
   "cell_type": "code",
   "execution_count": 26,
   "id": "d2ba7bdb",
   "metadata": {},
   "outputs": [],
   "source": [
    "\n",
    "list_other = list(set(X_train.columns)-set(list_columns_cat))"
   ]
  },
  {
   "cell_type": "code",
   "execution_count": 27,
   "id": "2890fa77",
   "metadata": {},
   "outputs": [
    {
     "data": {
      "text/plain": [
       "['keep_alive_session',\n",
       " 'device_os',\n",
       " 'source',\n",
       " 'foreign_request',\n",
       " 'has_other_cards',\n",
       " 'phone_mobile_valid',\n",
       " 'phone_home_valid',\n",
       " 'housing_status',\n",
       " 'email_is_free',\n",
       " 'employment_status',\n",
       " 'payment_type']"
      ]
     },
     "execution_count": 27,
     "metadata": {},
     "output_type": "execute_result"
    }
   ],
   "source": [
    "list_columns_cat"
   ]
  },
  {
   "cell_type": "markdown",
   "id": "a80e1b00",
   "metadata": {},
   "source": [
    "Creamos un objeto OneHotEncoder de la biblioteca category_encoders.Solo aplicamos la transformacion a las columnas categóricas.\n",
    "Con esto lo que hacemos es convertir las distintas categorias de una columna en columnas. Cada columna tendrá un '1' si la categoría original era esa y '0' \n",
    "de lo contrario.\n",
    "\n",
    "Hemos elegido OneHotEnconder ya que nuestras variables categóricas no tienen\n",
    "excesivas categórias."
   ]
  },
  {
   "cell_type": "markdown",
   "id": "5687b07d",
   "metadata": {},
   "source": [
    "Posterimente entrenamos con los datos X_train e y_train.Ahora model \n",
    "contiene el aprendzaje conseguido a través de los datos de entrenamiento."
   ]
  },
  {
   "cell_type": "code",
   "execution_count": 28,
   "id": "591e7a8c",
   "metadata": {},
   "outputs": [
    {
     "name": "stderr",
     "output_type": "stream",
     "text": [
      "c:\\Users\\Pepe\\anaconda3\\envs\\PracticaEDA\\lib\\site-packages\\category_encoders\\utils.py:28: FutureWarning: is_categorical_dtype is deprecated and will be removed in a future version. Use isinstance(dtype, CategoricalDtype) instead\n",
      "  elif pd.api.types.is_categorical_dtype(cols):\n",
      "c:\\Users\\Pepe\\anaconda3\\envs\\PracticaEDA\\lib\\site-packages\\category_encoders\\utils.py:50: FutureWarning: is_categorical_dtype is deprecated and will be removed in a future version. Use isinstance(dtype, CategoricalDtype) instead\n",
      "  return pd.api.types.is_categorical_dtype(dtype)\n",
      "c:\\Users\\Pepe\\anaconda3\\envs\\PracticaEDA\\lib\\site-packages\\category_encoders\\utils.py:50: FutureWarning: is_categorical_dtype is deprecated and will be removed in a future version. Use isinstance(dtype, CategoricalDtype) instead\n",
      "  return pd.api.types.is_categorical_dtype(dtype)\n",
      "c:\\Users\\Pepe\\anaconda3\\envs\\PracticaEDA\\lib\\site-packages\\category_encoders\\utils.py:50: FutureWarning: is_categorical_dtype is deprecated and will be removed in a future version. Use isinstance(dtype, CategoricalDtype) instead\n",
      "  return pd.api.types.is_categorical_dtype(dtype)\n",
      "c:\\Users\\Pepe\\anaconda3\\envs\\PracticaEDA\\lib\\site-packages\\category_encoders\\utils.py:50: FutureWarning: is_categorical_dtype is deprecated and will be removed in a future version. Use isinstance(dtype, CategoricalDtype) instead\n",
      "  return pd.api.types.is_categorical_dtype(dtype)\n",
      "c:\\Users\\Pepe\\anaconda3\\envs\\PracticaEDA\\lib\\site-packages\\category_encoders\\utils.py:50: FutureWarning: is_categorical_dtype is deprecated and will be removed in a future version. Use isinstance(dtype, CategoricalDtype) instead\n",
      "  return pd.api.types.is_categorical_dtype(dtype)\n",
      "c:\\Users\\Pepe\\anaconda3\\envs\\PracticaEDA\\lib\\site-packages\\category_encoders\\utils.py:50: FutureWarning: is_categorical_dtype is deprecated and will be removed in a future version. Use isinstance(dtype, CategoricalDtype) instead\n",
      "  return pd.api.types.is_categorical_dtype(dtype)\n",
      "c:\\Users\\Pepe\\anaconda3\\envs\\PracticaEDA\\lib\\site-packages\\category_encoders\\utils.py:50: FutureWarning: is_categorical_dtype is deprecated and will be removed in a future version. Use isinstance(dtype, CategoricalDtype) instead\n",
      "  return pd.api.types.is_categorical_dtype(dtype)\n",
      "c:\\Users\\Pepe\\anaconda3\\envs\\PracticaEDA\\lib\\site-packages\\category_encoders\\utils.py:50: FutureWarning: is_categorical_dtype is deprecated and will be removed in a future version. Use isinstance(dtype, CategoricalDtype) instead\n",
      "  return pd.api.types.is_categorical_dtype(dtype)\n",
      "c:\\Users\\Pepe\\anaconda3\\envs\\PracticaEDA\\lib\\site-packages\\category_encoders\\utils.py:50: FutureWarning: is_categorical_dtype is deprecated and will be removed in a future version. Use isinstance(dtype, CategoricalDtype) instead\n",
      "  return pd.api.types.is_categorical_dtype(dtype)\n",
      "c:\\Users\\Pepe\\anaconda3\\envs\\PracticaEDA\\lib\\site-packages\\category_encoders\\utils.py:50: FutureWarning: is_categorical_dtype is deprecated and will be removed in a future version. Use isinstance(dtype, CategoricalDtype) instead\n",
      "  return pd.api.types.is_categorical_dtype(dtype)\n",
      "c:\\Users\\Pepe\\anaconda3\\envs\\PracticaEDA\\lib\\site-packages\\category_encoders\\utils.py:50: FutureWarning: is_categorical_dtype is deprecated and will be removed in a future version. Use isinstance(dtype, CategoricalDtype) instead\n",
      "  return pd.api.types.is_categorical_dtype(dtype)\n",
      "c:\\Users\\Pepe\\anaconda3\\envs\\PracticaEDA\\lib\\site-packages\\category_encoders\\utils.py:50: FutureWarning: is_categorical_dtype is deprecated and will be removed in a future version. Use isinstance(dtype, CategoricalDtype) instead\n",
      "  return pd.api.types.is_categorical_dtype(dtype)\n",
      "c:\\Users\\Pepe\\anaconda3\\envs\\PracticaEDA\\lib\\site-packages\\category_encoders\\utils.py:50: FutureWarning: is_categorical_dtype is deprecated and will be removed in a future version. Use isinstance(dtype, CategoricalDtype) instead\n",
      "  return pd.api.types.is_categorical_dtype(dtype)\n",
      "c:\\Users\\Pepe\\anaconda3\\envs\\PracticaEDA\\lib\\site-packages\\category_encoders\\utils.py:50: FutureWarning: is_categorical_dtype is deprecated and will be removed in a future version. Use isinstance(dtype, CategoricalDtype) instead\n",
      "  return pd.api.types.is_categorical_dtype(dtype)\n",
      "c:\\Users\\Pepe\\anaconda3\\envs\\PracticaEDA\\lib\\site-packages\\category_encoders\\utils.py:50: FutureWarning: is_categorical_dtype is deprecated and will be removed in a future version. Use isinstance(dtype, CategoricalDtype) instead\n",
      "  return pd.api.types.is_categorical_dtype(dtype)\n",
      "c:\\Users\\Pepe\\anaconda3\\envs\\PracticaEDA\\lib\\site-packages\\category_encoders\\utils.py:50: FutureWarning: is_categorical_dtype is deprecated and will be removed in a future version. Use isinstance(dtype, CategoricalDtype) instead\n",
      "  return pd.api.types.is_categorical_dtype(dtype)\n",
      "c:\\Users\\Pepe\\anaconda3\\envs\\PracticaEDA\\lib\\site-packages\\category_encoders\\utils.py:50: FutureWarning: is_categorical_dtype is deprecated and will be removed in a future version. Use isinstance(dtype, CategoricalDtype) instead\n",
      "  return pd.api.types.is_categorical_dtype(dtype)\n",
      "c:\\Users\\Pepe\\anaconda3\\envs\\PracticaEDA\\lib\\site-packages\\category_encoders\\utils.py:50: FutureWarning: is_categorical_dtype is deprecated and will be removed in a future version. Use isinstance(dtype, CategoricalDtype) instead\n",
      "  return pd.api.types.is_categorical_dtype(dtype)\n",
      "c:\\Users\\Pepe\\anaconda3\\envs\\PracticaEDA\\lib\\site-packages\\category_encoders\\utils.py:50: FutureWarning: is_categorical_dtype is deprecated and will be removed in a future version. Use isinstance(dtype, CategoricalDtype) instead\n",
      "  return pd.api.types.is_categorical_dtype(dtype)\n",
      "c:\\Users\\Pepe\\anaconda3\\envs\\PracticaEDA\\lib\\site-packages\\category_encoders\\utils.py:50: FutureWarning: is_categorical_dtype is deprecated and will be removed in a future version. Use isinstance(dtype, CategoricalDtype) instead\n",
      "  return pd.api.types.is_categorical_dtype(dtype)\n",
      "c:\\Users\\Pepe\\anaconda3\\envs\\PracticaEDA\\lib\\site-packages\\category_encoders\\utils.py:50: FutureWarning: is_categorical_dtype is deprecated and will be removed in a future version. Use isinstance(dtype, CategoricalDtype) instead\n",
      "  return pd.api.types.is_categorical_dtype(dtype)\n",
      "c:\\Users\\Pepe\\anaconda3\\envs\\PracticaEDA\\lib\\site-packages\\category_encoders\\utils.py:50: FutureWarning: is_categorical_dtype is deprecated and will be removed in a future version. Use isinstance(dtype, CategoricalDtype) instead\n",
      "  return pd.api.types.is_categorical_dtype(dtype)\n",
      "c:\\Users\\Pepe\\anaconda3\\envs\\PracticaEDA\\lib\\site-packages\\category_encoders\\utils.py:50: FutureWarning: is_categorical_dtype is deprecated and will be removed in a future version. Use isinstance(dtype, CategoricalDtype) instead\n",
      "  return pd.api.types.is_categorical_dtype(dtype)\n",
      "c:\\Users\\Pepe\\anaconda3\\envs\\PracticaEDA\\lib\\site-packages\\category_encoders\\utils.py:50: FutureWarning: is_categorical_dtype is deprecated and will be removed in a future version. Use isinstance(dtype, CategoricalDtype) instead\n",
      "  return pd.api.types.is_categorical_dtype(dtype)\n",
      "c:\\Users\\Pepe\\anaconda3\\envs\\PracticaEDA\\lib\\site-packages\\category_encoders\\utils.py:50: FutureWarning: is_categorical_dtype is deprecated and will be removed in a future version. Use isinstance(dtype, CategoricalDtype) instead\n",
      "  return pd.api.types.is_categorical_dtype(dtype)\n",
      "c:\\Users\\Pepe\\anaconda3\\envs\\PracticaEDA\\lib\\site-packages\\category_encoders\\utils.py:50: FutureWarning: is_categorical_dtype is deprecated and will be removed in a future version. Use isinstance(dtype, CategoricalDtype) instead\n",
      "  return pd.api.types.is_categorical_dtype(dtype)\n",
      "c:\\Users\\Pepe\\anaconda3\\envs\\PracticaEDA\\lib\\site-packages\\category_encoders\\utils.py:50: FutureWarning: is_categorical_dtype is deprecated and will be removed in a future version. Use isinstance(dtype, CategoricalDtype) instead\n",
      "  return pd.api.types.is_categorical_dtype(dtype)\n",
      "c:\\Users\\Pepe\\anaconda3\\envs\\PracticaEDA\\lib\\site-packages\\category_encoders\\utils.py:50: FutureWarning: is_categorical_dtype is deprecated and will be removed in a future version. Use isinstance(dtype, CategoricalDtype) instead\n",
      "  return pd.api.types.is_categorical_dtype(dtype)\n",
      "c:\\Users\\Pepe\\anaconda3\\envs\\PracticaEDA\\lib\\site-packages\\category_encoders\\utils.py:50: FutureWarning: is_categorical_dtype is deprecated and will be removed in a future version. Use isinstance(dtype, CategoricalDtype) instead\n",
      "  return pd.api.types.is_categorical_dtype(dtype)\n",
      "c:\\Users\\Pepe\\anaconda3\\envs\\PracticaEDA\\lib\\site-packages\\category_encoders\\utils.py:50: FutureWarning: is_categorical_dtype is deprecated and will be removed in a future version. Use isinstance(dtype, CategoricalDtype) instead\n",
      "  return pd.api.types.is_categorical_dtype(dtype)\n",
      "c:\\Users\\Pepe\\anaconda3\\envs\\PracticaEDA\\lib\\site-packages\\category_encoders\\utils.py:50: FutureWarning: is_categorical_dtype is deprecated and will be removed in a future version. Use isinstance(dtype, CategoricalDtype) instead\n",
      "  return pd.api.types.is_categorical_dtype(dtype)\n",
      "c:\\Users\\Pepe\\anaconda3\\envs\\PracticaEDA\\lib\\site-packages\\category_encoders\\utils.py:50: FutureWarning: is_categorical_dtype is deprecated and will be removed in a future version. Use isinstance(dtype, CategoricalDtype) instead\n",
      "  return pd.api.types.is_categorical_dtype(dtype)\n",
      "c:\\Users\\Pepe\\anaconda3\\envs\\PracticaEDA\\lib\\site-packages\\category_encoders\\utils.py:50: FutureWarning: is_categorical_dtype is deprecated and will be removed in a future version. Use isinstance(dtype, CategoricalDtype) instead\n",
      "  return pd.api.types.is_categorical_dtype(dtype)\n"
     ]
    }
   ],
   "source": [
    "ohe = ce.OneHotEncoder(cols=list_columns_cat)\n",
    "model = ohe.fit(X_train, y_train)"
   ]
  },
  {
   "cell_type": "code",
   "execution_count": 29,
   "id": "2d2daee2",
   "metadata": {
    "scrolled": false
   },
   "outputs": [
    {
     "data": {
      "text/html": [
       "<style>#sk-container-id-1 {color: black;}#sk-container-id-1 pre{padding: 0;}#sk-container-id-1 div.sk-toggleable {background-color: white;}#sk-container-id-1 label.sk-toggleable__label {cursor: pointer;display: block;width: 100%;margin-bottom: 0;padding: 0.3em;box-sizing: border-box;text-align: center;}#sk-container-id-1 label.sk-toggleable__label-arrow:before {content: \"▸\";float: left;margin-right: 0.25em;color: #696969;}#sk-container-id-1 label.sk-toggleable__label-arrow:hover:before {color: black;}#sk-container-id-1 div.sk-estimator:hover label.sk-toggleable__label-arrow:before {color: black;}#sk-container-id-1 div.sk-toggleable__content {max-height: 0;max-width: 0;overflow: hidden;text-align: left;background-color: #f0f8ff;}#sk-container-id-1 div.sk-toggleable__content pre {margin: 0.2em;color: black;border-radius: 0.25em;background-color: #f0f8ff;}#sk-container-id-1 input.sk-toggleable__control:checked~div.sk-toggleable__content {max-height: 200px;max-width: 100%;overflow: auto;}#sk-container-id-1 input.sk-toggleable__control:checked~label.sk-toggleable__label-arrow:before {content: \"▾\";}#sk-container-id-1 div.sk-estimator input.sk-toggleable__control:checked~label.sk-toggleable__label {background-color: #d4ebff;}#sk-container-id-1 div.sk-label input.sk-toggleable__control:checked~label.sk-toggleable__label {background-color: #d4ebff;}#sk-container-id-1 input.sk-hidden--visually {border: 0;clip: rect(1px 1px 1px 1px);clip: rect(1px, 1px, 1px, 1px);height: 1px;margin: -1px;overflow: hidden;padding: 0;position: absolute;width: 1px;}#sk-container-id-1 div.sk-estimator {font-family: monospace;background-color: #f0f8ff;border: 1px dotted black;border-radius: 0.25em;box-sizing: border-box;margin-bottom: 0.5em;}#sk-container-id-1 div.sk-estimator:hover {background-color: #d4ebff;}#sk-container-id-1 div.sk-parallel-item::after {content: \"\";width: 100%;border-bottom: 1px solid gray;flex-grow: 1;}#sk-container-id-1 div.sk-label:hover label.sk-toggleable__label {background-color: #d4ebff;}#sk-container-id-1 div.sk-serial::before {content: \"\";position: absolute;border-left: 1px solid gray;box-sizing: border-box;top: 0;bottom: 0;left: 50%;z-index: 0;}#sk-container-id-1 div.sk-serial {display: flex;flex-direction: column;align-items: center;background-color: white;padding-right: 0.2em;padding-left: 0.2em;position: relative;}#sk-container-id-1 div.sk-item {position: relative;z-index: 1;}#sk-container-id-1 div.sk-parallel {display: flex;align-items: stretch;justify-content: center;background-color: white;position: relative;}#sk-container-id-1 div.sk-item::before, #sk-container-id-1 div.sk-parallel-item::before {content: \"\";position: absolute;border-left: 1px solid gray;box-sizing: border-box;top: 0;bottom: 0;left: 50%;z-index: -1;}#sk-container-id-1 div.sk-parallel-item {display: flex;flex-direction: column;z-index: 1;position: relative;background-color: white;}#sk-container-id-1 div.sk-parallel-item:first-child::after {align-self: flex-end;width: 50%;}#sk-container-id-1 div.sk-parallel-item:last-child::after {align-self: flex-start;width: 50%;}#sk-container-id-1 div.sk-parallel-item:only-child::after {width: 0;}#sk-container-id-1 div.sk-dashed-wrapped {border: 1px dashed gray;margin: 0 0.4em 0.5em 0.4em;box-sizing: border-box;padding-bottom: 0.4em;background-color: white;}#sk-container-id-1 div.sk-label label {font-family: monospace;font-weight: bold;display: inline-block;line-height: 1.2em;}#sk-container-id-1 div.sk-label-container {text-align: center;}#sk-container-id-1 div.sk-container {/* jupyter's `normalize.less` sets `[hidden] { display: none; }` but bootstrap.min.css set `[hidden] { display: none !important; }` so we also need the `!important` here to be able to override the default hidden behavior on the sphinx rendered scikit-learn.org. See: https://github.com/scikit-learn/scikit-learn/issues/21755 */display: inline-block !important;position: relative;}#sk-container-id-1 div.sk-text-repr-fallback {display: none;}</style><div id=\"sk-container-id-1\" class=\"sk-top-container\"><div class=\"sk-text-repr-fallback\"><pre>OneHotEncoder(cols=[&#x27;keep_alive_session&#x27;, &#x27;device_os&#x27;, &#x27;source&#x27;,\n",
       "                    &#x27;foreign_request&#x27;, &#x27;has_other_cards&#x27;, &#x27;phone_mobile_valid&#x27;,\n",
       "                    &#x27;phone_home_valid&#x27;, &#x27;housing_status&#x27;, &#x27;email_is_free&#x27;,\n",
       "                    &#x27;employment_status&#x27;, &#x27;payment_type&#x27;])</pre><b>In a Jupyter environment, please rerun this cell to show the HTML representation or trust the notebook. <br />On GitHub, the HTML representation is unable to render, please try loading this page with nbviewer.org.</b></div><div class=\"sk-container\" hidden><div class=\"sk-item\"><div class=\"sk-estimator sk-toggleable\"><input class=\"sk-toggleable__control sk-hidden--visually\" id=\"sk-estimator-id-1\" type=\"checkbox\" checked><label for=\"sk-estimator-id-1\" class=\"sk-toggleable__label sk-toggleable__label-arrow\">OneHotEncoder</label><div class=\"sk-toggleable__content\"><pre>OneHotEncoder(cols=[&#x27;keep_alive_session&#x27;, &#x27;device_os&#x27;, &#x27;source&#x27;,\n",
       "                    &#x27;foreign_request&#x27;, &#x27;has_other_cards&#x27;, &#x27;phone_mobile_valid&#x27;,\n",
       "                    &#x27;phone_home_valid&#x27;, &#x27;housing_status&#x27;, &#x27;email_is_free&#x27;,\n",
       "                    &#x27;employment_status&#x27;, &#x27;payment_type&#x27;])</pre></div></div></div></div></div>"
      ],
      "text/plain": [
       "OneHotEncoder(cols=['keep_alive_session', 'device_os', 'source',\n",
       "                    'foreign_request', 'has_other_cards', 'phone_mobile_valid',\n",
       "                    'phone_home_valid', 'housing_status', 'email_is_free',\n",
       "                    'employment_status', 'payment_type'])"
      ]
     },
     "execution_count": 29,
     "metadata": {},
     "output_type": "execute_result"
    }
   ],
   "source": [
    "model"
   ]
  },
  {
   "cell_type": "markdown",
   "id": "ee71f9db",
   "metadata": {},
   "source": [
    "Utilizamos el modelo OneHotEncoder que se ajustó previamente a los datos de entrenamiento para transformar tanto el conjunto de\n",
    "entrenamiento (X_train e y_trian) como el conjunto de prueba (X_test e y_test)."
   ]
  },
  {
   "cell_type": "code",
   "execution_count": 30,
   "id": "5ecb970d",
   "metadata": {},
   "outputs": [
    {
     "name": "stderr",
     "output_type": "stream",
     "text": [
      "c:\\Users\\Pepe\\anaconda3\\envs\\PracticaEDA\\lib\\site-packages\\category_encoders\\utils.py:50: FutureWarning: is_categorical_dtype is deprecated and will be removed in a future version. Use isinstance(dtype, CategoricalDtype) instead\n",
      "  return pd.api.types.is_categorical_dtype(dtype)\n",
      "c:\\Users\\Pepe\\anaconda3\\envs\\PracticaEDA\\lib\\site-packages\\category_encoders\\utils.py:50: FutureWarning: is_categorical_dtype is deprecated and will be removed in a future version. Use isinstance(dtype, CategoricalDtype) instead\n",
      "  return pd.api.types.is_categorical_dtype(dtype)\n",
      "c:\\Users\\Pepe\\anaconda3\\envs\\PracticaEDA\\lib\\site-packages\\category_encoders\\utils.py:50: FutureWarning: is_categorical_dtype is deprecated and will be removed in a future version. Use isinstance(dtype, CategoricalDtype) instead\n",
      "  return pd.api.types.is_categorical_dtype(dtype)\n",
      "c:\\Users\\Pepe\\anaconda3\\envs\\PracticaEDA\\lib\\site-packages\\category_encoders\\utils.py:50: FutureWarning: is_categorical_dtype is deprecated and will be removed in a future version. Use isinstance(dtype, CategoricalDtype) instead\n",
      "  return pd.api.types.is_categorical_dtype(dtype)\n",
      "c:\\Users\\Pepe\\anaconda3\\envs\\PracticaEDA\\lib\\site-packages\\category_encoders\\utils.py:50: FutureWarning: is_categorical_dtype is deprecated and will be removed in a future version. Use isinstance(dtype, CategoricalDtype) instead\n",
      "  return pd.api.types.is_categorical_dtype(dtype)\n",
      "c:\\Users\\Pepe\\anaconda3\\envs\\PracticaEDA\\lib\\site-packages\\category_encoders\\utils.py:50: FutureWarning: is_categorical_dtype is deprecated and will be removed in a future version. Use isinstance(dtype, CategoricalDtype) instead\n",
      "  return pd.api.types.is_categorical_dtype(dtype)\n",
      "c:\\Users\\Pepe\\anaconda3\\envs\\PracticaEDA\\lib\\site-packages\\category_encoders\\utils.py:50: FutureWarning: is_categorical_dtype is deprecated and will be removed in a future version. Use isinstance(dtype, CategoricalDtype) instead\n",
      "  return pd.api.types.is_categorical_dtype(dtype)\n",
      "c:\\Users\\Pepe\\anaconda3\\envs\\PracticaEDA\\lib\\site-packages\\category_encoders\\utils.py:50: FutureWarning: is_categorical_dtype is deprecated and will be removed in a future version. Use isinstance(dtype, CategoricalDtype) instead\n",
      "  return pd.api.types.is_categorical_dtype(dtype)\n",
      "c:\\Users\\Pepe\\anaconda3\\envs\\PracticaEDA\\lib\\site-packages\\category_encoders\\utils.py:50: FutureWarning: is_categorical_dtype is deprecated and will be removed in a future version. Use isinstance(dtype, CategoricalDtype) instead\n",
      "  return pd.api.types.is_categorical_dtype(dtype)\n",
      "c:\\Users\\Pepe\\anaconda3\\envs\\PracticaEDA\\lib\\site-packages\\category_encoders\\utils.py:50: FutureWarning: is_categorical_dtype is deprecated and will be removed in a future version. Use isinstance(dtype, CategoricalDtype) instead\n",
      "  return pd.api.types.is_categorical_dtype(dtype)\n",
      "c:\\Users\\Pepe\\anaconda3\\envs\\PracticaEDA\\lib\\site-packages\\category_encoders\\utils.py:50: FutureWarning: is_categorical_dtype is deprecated and will be removed in a future version. Use isinstance(dtype, CategoricalDtype) instead\n",
      "  return pd.api.types.is_categorical_dtype(dtype)\n",
      "c:\\Users\\Pepe\\anaconda3\\envs\\PracticaEDA\\lib\\site-packages\\category_encoders\\utils.py:50: FutureWarning: is_categorical_dtype is deprecated and will be removed in a future version. Use isinstance(dtype, CategoricalDtype) instead\n",
      "  return pd.api.types.is_categorical_dtype(dtype)\n",
      "c:\\Users\\Pepe\\anaconda3\\envs\\PracticaEDA\\lib\\site-packages\\category_encoders\\utils.py:50: FutureWarning: is_categorical_dtype is deprecated and will be removed in a future version. Use isinstance(dtype, CategoricalDtype) instead\n",
      "  return pd.api.types.is_categorical_dtype(dtype)\n",
      "c:\\Users\\Pepe\\anaconda3\\envs\\PracticaEDA\\lib\\site-packages\\category_encoders\\utils.py:50: FutureWarning: is_categorical_dtype is deprecated and will be removed in a future version. Use isinstance(dtype, CategoricalDtype) instead\n",
      "  return pd.api.types.is_categorical_dtype(dtype)\n",
      "c:\\Users\\Pepe\\anaconda3\\envs\\PracticaEDA\\lib\\site-packages\\category_encoders\\utils.py:50: FutureWarning: is_categorical_dtype is deprecated and will be removed in a future version. Use isinstance(dtype, CategoricalDtype) instead\n",
      "  return pd.api.types.is_categorical_dtype(dtype)\n",
      "c:\\Users\\Pepe\\anaconda3\\envs\\PracticaEDA\\lib\\site-packages\\category_encoders\\utils.py:50: FutureWarning: is_categorical_dtype is deprecated and will be removed in a future version. Use isinstance(dtype, CategoricalDtype) instead\n",
      "  return pd.api.types.is_categorical_dtype(dtype)\n",
      "c:\\Users\\Pepe\\anaconda3\\envs\\PracticaEDA\\lib\\site-packages\\category_encoders\\utils.py:50: FutureWarning: is_categorical_dtype is deprecated and will be removed in a future version. Use isinstance(dtype, CategoricalDtype) instead\n",
      "  return pd.api.types.is_categorical_dtype(dtype)\n",
      "c:\\Users\\Pepe\\anaconda3\\envs\\PracticaEDA\\lib\\site-packages\\category_encoders\\utils.py:50: FutureWarning: is_categorical_dtype is deprecated and will be removed in a future version. Use isinstance(dtype, CategoricalDtype) instead\n",
      "  return pd.api.types.is_categorical_dtype(dtype)\n",
      "c:\\Users\\Pepe\\anaconda3\\envs\\PracticaEDA\\lib\\site-packages\\category_encoders\\utils.py:50: FutureWarning: is_categorical_dtype is deprecated and will be removed in a future version. Use isinstance(dtype, CategoricalDtype) instead\n",
      "  return pd.api.types.is_categorical_dtype(dtype)\n",
      "c:\\Users\\Pepe\\anaconda3\\envs\\PracticaEDA\\lib\\site-packages\\category_encoders\\utils.py:50: FutureWarning: is_categorical_dtype is deprecated and will be removed in a future version. Use isinstance(dtype, CategoricalDtype) instead\n",
      "  return pd.api.types.is_categorical_dtype(dtype)\n",
      "c:\\Users\\Pepe\\anaconda3\\envs\\PracticaEDA\\lib\\site-packages\\category_encoders\\utils.py:50: FutureWarning: is_categorical_dtype is deprecated and will be removed in a future version. Use isinstance(dtype, CategoricalDtype) instead\n",
      "  return pd.api.types.is_categorical_dtype(dtype)\n",
      "c:\\Users\\Pepe\\anaconda3\\envs\\PracticaEDA\\lib\\site-packages\\category_encoders\\utils.py:50: FutureWarning: is_categorical_dtype is deprecated and will be removed in a future version. Use isinstance(dtype, CategoricalDtype) instead\n",
      "  return pd.api.types.is_categorical_dtype(dtype)\n"
     ]
    }
   ],
   "source": [
    "X_train_t = model.transform(X_train,y_train)\n",
    "X_test_t = model.transform(X_test, y_test)\n",
    "# X_train_t.columns = list_columns_cat\n",
    "# X_test_t.columns = list_columns_cat"
   ]
  },
  {
   "cell_type": "markdown",
   "id": "2ebf7315",
   "metadata": {},
   "source": [
    "Ahora tenemos conjuntos de datos de entrenamiento y prueba (X_train_t y X_test_t) que están listos para ser utilizados en \n",
    "un modelo de aprendizaje automático, con todas las variables categóricas codificadas adecuadamente. "
   ]
  },
  {
   "cell_type": "markdown",
   "id": "708f737d",
   "metadata": {},
   "source": [
    "Es muy importante que en ambos conjuntos se utilice la misma transformación ya que esto nos permite mantener \n",
    "la consistencia de los datos al entrenar y evaluar el modelo."
   ]
  },
  {
   "cell_type": "markdown",
   "id": "6b4ddd1f",
   "metadata": {},
   "source": [
    "Calculamos el número de columnas en el DataFrame X_train_t, así sabemos el nuevo número de columnas que se han creado."
   ]
  },
  {
   "cell_type": "code",
   "execution_count": 31,
   "id": "c9782938",
   "metadata": {},
   "outputs": [
    {
     "data": {
      "text/plain": [
       "58"
      ]
     },
     "execution_count": 31,
     "metadata": {},
     "output_type": "execute_result"
    }
   ],
   "source": [
    "len(list(X_train_t.columns))"
   ]
  },
  {
   "cell_type": "code",
   "execution_count": 32,
   "id": "a65d8d01",
   "metadata": {},
   "outputs": [
    {
     "data": {
      "text/plain": [
       "{'income': dtype('float64'),\n",
       " 'device_fraud_count': dtype('int64'),\n",
       " 'device_distinct_emails_8w': dtype('int64'),\n",
       " 'keep_alive_session_1': dtype('int64'),\n",
       " 'keep_alive_session_2': dtype('int64'),\n",
       " 'device_os_1': dtype('int64'),\n",
       " 'device_os_2': dtype('int64'),\n",
       " 'device_os_3': dtype('int64'),\n",
       " 'device_os_4': dtype('int64'),\n",
       " 'device_os_5': dtype('int64'),\n",
       " 'session_length_in_minutes': dtype('float64'),\n",
       " 'source_1': dtype('int64'),\n",
       " 'source_2': dtype('int64'),\n",
       " 'foreign_request_1': dtype('int64'),\n",
       " 'foreign_request_2': dtype('int64'),\n",
       " 'proposed_credit_limit': dtype('float64'),\n",
       " 'has_other_cards_1': dtype('int64'),\n",
       " 'has_other_cards_2': dtype('int64'),\n",
       " 'bank_months_count': dtype('int64'),\n",
       " 'phone_mobile_valid_1': dtype('int64'),\n",
       " 'phone_mobile_valid_2': dtype('int64'),\n",
       " 'phone_home_valid_1': dtype('int64'),\n",
       " 'phone_home_valid_2': dtype('int64'),\n",
       " 'housing_status_1': dtype('int64'),\n",
       " 'housing_status_2': dtype('int64'),\n",
       " 'housing_status_3': dtype('int64'),\n",
       " 'housing_status_4': dtype('int64'),\n",
       " 'housing_status_5': dtype('int64'),\n",
       " 'housing_status_6': dtype('int64'),\n",
       " 'housing_status_7': dtype('int64'),\n",
       " 'email_is_free_1': dtype('int64'),\n",
       " 'email_is_free_2': dtype('int64'),\n",
       " 'credit_risk_score': dtype('int64'),\n",
       " 'employment_status_1': dtype('int64'),\n",
       " 'employment_status_2': dtype('int64'),\n",
       " 'employment_status_3': dtype('int64'),\n",
       " 'employment_status_4': dtype('int64'),\n",
       " 'employment_status_5': dtype('int64'),\n",
       " 'employment_status_6': dtype('int64'),\n",
       " 'employment_status_7': dtype('int64'),\n",
       " 'date_of_birth_distinct_emails_4w': dtype('int64'),\n",
       " 'bank_branch_count_8w': dtype('int64'),\n",
       " 'velocity_4w': dtype('float64'),\n",
       " 'velocity_24h': dtype('float64'),\n",
       " 'velocity_6h': dtype('float64'),\n",
       " 'zip_count_4w': dtype('int64'),\n",
       " 'payment_type_1': dtype('int64'),\n",
       " 'payment_type_2': dtype('int64'),\n",
       " 'payment_type_3': dtype('int64'),\n",
       " 'payment_type_4': dtype('int64'),\n",
       " 'payment_type_5': dtype('int64'),\n",
       " 'intended_balcon_amount': dtype('float64'),\n",
       " 'days_since_request': dtype('float64'),\n",
       " 'customer_age': dtype('int64'),\n",
       " 'current_address_months_count': dtype('int64'),\n",
       " 'prev_address_months_count': dtype('int64'),\n",
       " 'name_email_similarity': dtype('float64'),\n",
       " 'month': dtype('int64')}"
      ]
     },
     "execution_count": 32,
     "metadata": {},
     "output_type": "execute_result"
    }
   ],
   "source": [
    "X_train_t.dtypes.to_dict()"
   ]
  },
  {
   "cell_type": "markdown",
   "id": "646454e4",
   "metadata": {},
   "source": [
    "Como conclusión hemos establecido en que partes del dataset debemos poner el foco. Asignamos a cada variable su tipo de dato,\n",
    "identificamos cuales de ellas son las que tienen una mayor relación con el fraude(a través de gráficos, correlaciones, cramer...)\n",
    "y hemos identificado los valores nulos y \n",
    "outliers para su posterior tratamiento. Además también hemos separado los datos en train \n",
    "y test y codificado las variables categóricas.\n",
    "\n",
    "Ahora nuestros datos están listos para ser utilizados en un modelo de aprendizaje automático, con todas las variables\n",
    "categóricas codificadas adecuadamente."
   ]
  },
  {
   "cell_type": "code",
   "execution_count": null,
   "id": "b4e8aea0",
   "metadata": {},
   "outputs": [],
   "source": []
  }
 ],
 "metadata": {
  "kernelspec": {
   "display_name": "PracticaEDA",
   "language": "python",
   "name": "python3"
  },
  "language_info": {
   "codemirror_mode": {
    "name": "ipython",
    "version": 3
   },
   "file_extension": ".py",
   "mimetype": "text/x-python",
   "name": "python",
   "nbconvert_exporter": "python",
   "pygments_lexer": "ipython3",
   "version": "3.9.18"
  }
 },
 "nbformat": 4,
 "nbformat_minor": 5
}
