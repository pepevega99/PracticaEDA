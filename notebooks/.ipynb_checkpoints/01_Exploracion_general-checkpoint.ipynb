{
 "cells": [
  {
   "cell_type": "code",
   "execution_count": 4,
   "id": "7ab8b795",
   "metadata": {},
   "outputs": [],
   "source": [
    "import pandas as pd\n",
    "import numpy as np\n",
    "import seaborn as sns\n",
    "from matplotlib import pyplot as plt\n",
    "import plotly.express as px\n",
    "import scipy.stats as ss\n",
    "import warnings\n",
    "from sklearn.impute import KNNImputer\n",
    "\n",
    "pd.set_option('display.max_columns', 500)\n",
    "pd.set_option('display.max_rows', 5000)"
   ]
  },
  {
   "cell_type": "code",
   "execution_count": 5,
   "id": "de5baf1c",
   "metadata": {},
   "outputs": [],
   "source": [
    "def plot_feature(df, col_name, isContinuous, target):\n",
    "    \"\"\"\n",
    "    Visualize a variable with and without faceting on the loan status.\n",
    "    - df dataframe\n",
    "    - col_name is the variable name in the dataframe\n",
    "    - full_name is the full variable name\n",
    "    - continuous is True if the variable is continuous, False otherwise\n",
    "    \"\"\"\n",
    "    f, (ax1, ax2) = plt.subplots(nrows=1, ncols=2, figsize=(12,3), dpi=90)\n",
    "    \n",
    "    count_null = df[col_name].isnull().sum()\n",
    "    if isContinuous:\n",
    "        \n",
    "        sns.histplot(df.loc[df[col_name].notnull(), col_name], kde=False, ax=ax1)\n",
    "    else:\n",
    "        sns.countplot(df, x=col_name, color='#5975A4', saturation=1, ax=ax1)\n",
    "    ax1.set_xlabel(col_name)\n",
    "    ax1.set_ylabel('Count')\n",
    "    ax1.set_title(col_name+ ' Numero de nulos: '+str(count_null))\n",
    "    plt.xticks(rotation = 90)\n",
    "\n",
    "\n",
    "    if isContinuous:\n",
    "        sns.boxplot(x=col_name, y=target, data=df, ax=ax2)\n",
    "        ax2.set_ylabel('')\n",
    "        ax2.set_title(col_name + ' by '+target)\n",
    "    else:\n",
    "        data = df.groupby(col_name)[target].value_counts(normalize=True).to_frame('proportion').reset_index() \n",
    "        data.columns = [i, target, 'proportion']\n",
    "        #sns.barplot(x = col_name, y = 'proportion', hue= target, data = data, saturation=1, ax=ax2)\n",
    "        sns.barplot(x = col_name, y = 'proportion', hue= target, data = data, saturation=1, ax=ax2)\n",
    "        ax2.set_ylabel(target+' fraction')\n",
    "        ax2.set_title(target)\n",
    "        plt.xticks(rotation = 90)\n",
    "    ax2.set_xlabel(col_name)\n",
    "    \n",
    "    plt.tight_layout()\n",
    "    \n",
    "\n",
    "def dame_variables_categoricas(dataset=None):\n",
    "    '''\n",
    "    ----------------------------------------------------------------------------------------------------------\n",
    "    Función dame_variables_categoricas:\n",
    "    ----------------------------------------------------------------------------------------------------------\n",
    "        -Descripción: Función que recibe un dataset y devuelve una lista con los nombres de las \n",
    "        variables categóricas\n",
    "        -Inputs: \n",
    "            -- dataset: Pandas dataframe que contiene los datos\n",
    "        -Return:\n",
    "            -- lista_variables_categoricas: lista con los nombres de las variables categóricas del\n",
    "            dataset de entrada con menos de 100 valores diferentes\n",
    "            -- 1: la ejecución es incorrecta\n",
    "    '''\n",
    "    if dataset is None:\n",
    "        print(u'\\nFaltan argumentos por pasar a la función')\n",
    "        return 1\n",
    "    lista_variables_categoricas = []\n",
    "    other = []\n",
    "    for i in dataset.columns:\n",
    "        if (dataset[i].dtype!=float) & (dataset[i].dtype!=int):\n",
    "            unicos = int(len(np.unique(dataset[i].dropna(axis=0, how='all'))))\n",
    "            if unicos < 100:\n",
    "                lista_variables_categoricas.append(i)\n",
    "            else:\n",
    "                other.append(i)\n",
    "\n",
    "    return lista_variables_categoricas, other\n",
    "\n",
    "\n",
    "def get_corr_matrix(dataset = None, metodo='pearson', size_figure=[10,8]):\n",
    "    # Para obtener la correlación de Spearman, sólo cambiar el metodo por 'spearman'\n",
    "\n",
    "    if dataset is None:\n",
    "        print(u'\\nHace falta pasar argumentos a la función')\n",
    "        return 1\n",
    "    sns.set(style=\"white\")\n",
    "    # Compute the correlation matrix\n",
    "    corr = dataset.corr(method=metodo) \n",
    "    # Set self-correlation to zero to avoid distraction\n",
    "    for i in range(corr.shape[0]):\n",
    "        corr.iloc[i, i] = 0\n",
    "    # Set up the matplotlib figure\n",
    "    f, ax = plt.subplots(figsize=size_figure)\n",
    "    # Draw the heatmap with the mask and correct aspect ratio\n",
    "    sns.heatmap(corr, center=0,\n",
    "                square=True, linewidths=.5,  cmap ='viridis' ) #cbar_kws={\"shrink\": .5}\n",
    "    plt.show()\n",
    "    \n",
    "    return 0\n",
    "\n",
    "def get_deviation_of_mean_perc(df, list_var_continuous, target, multiplier):\n",
    "    \"\"\"\n",
    "    Devuelve el porcentaje de valores que exceden del intervalo de confianza\n",
    "    :type series:\n",
    "    :param multiplier:\n",
    "    :return:\n",
    "    \"\"\"\n",
    "    pd_final = pd.DataFrame()\n",
    "    \n",
    "    for i in list_var_continuous:\n",
    "        \n",
    "        series_mean = df[i].mean()\n",
    "        series_std = df[i].std()\n",
    "        std_amp = multiplier * series_std\n",
    "        left = series_mean - std_amp\n",
    "        right = series_mean + std_amp\n",
    "        size_s = df[i].size\n",
    "        \n",
    "        perc_goods = df[i][(df[i] >= left) & (df[i] <= right)].size/size_s\n",
    "        perc_excess = df[i][(df[i] < left) | (df[i] > right)].size/size_s\n",
    "        \n",
    "        if perc_excess>0:    \n",
    "            pd_concat_percent = pd.DataFrame(df[target][(df[i] < left) | (df[i] > right)]\\\n",
    "                                            .value_counts(normalize=True).reset_index()).T\n",
    "            pd_concat_percent.columns = [pd_concat_percent.iloc[0,0], \n",
    "                                         pd_concat_percent.iloc[0,1]]\n",
    "            pd_concat_percent = pd_concat_percent.drop('fraud_bool',axis=0)\n",
    "            pd_concat_percent['variable'] = i\n",
    "            pd_concat_percent['sum_outlier_values'] = df[i][(df[i] < left) | (df[i] > right)].size\n",
    "            pd_concat_percent['porcentaje_sum_null_values'] = perc_excess\n",
    "            pd_final = pd.concat([pd_final, pd_concat_percent], axis=0).reset_index(drop=True)\n",
    "            \n",
    "    if pd_final.empty:\n",
    "        print('No existen variables con valores nulos')\n",
    "        \n",
    "    return pd_final\n",
    "  \n",
    "\n",
    "\n",
    "def get_percent_null_values_target(pd_loan, list_var_continuous, target):\n",
    "\n",
    "    pd_final = pd.DataFrame()\n",
    "    for i in list_var_continuous:\n",
    "        if pd_loan[i].isnull().sum()>0:\n",
    "            pd_concat_percent = pd.DataFrame(pd_loan[target][pd_loan[i].isnull()]\\\n",
    "                                            .value_counts(normalize=True).reset_index()).T\n",
    "            pd_concat_percent.columns = [pd_concat_percent.iloc[0,0], \n",
    "                                         pd_concat_percent.iloc[0,1]]\n",
    "            pd_concat_percent = pd_concat_percent.drop('index',axis=0)\n",
    "            pd_concat_percent['variable'] = i\n",
    "            pd_concat_percent['sum_null_values'] = pd_loan[i].isnull().sum()\n",
    "            pd_concat_percent['porcentaje_sum_null_values'] = pd_loan[i].isnull().sum()/pd_loan.shape[0]\n",
    "            pd_final = pd.concat([pd_final, pd_concat_percent], axis=0).reset_index(drop=True)\n",
    "            \n",
    "    if pd_final.empty:\n",
    "        print('No existen variables con valores nulos')\n",
    "        \n",
    "    return pd_final\n",
    "\n",
    "\n",
    "\n",
    "def cramers_v(confusion_matrix):\n",
    "    \"\"\" \n",
    "    calculate Cramers V statistic for categorial-categorial association.\n",
    "    uses correction from Bergsma and Wicher,\n",
    "    Journal of the Korean Statistical Society 42 (2013): 323-328\n",
    "    \n",
    "    confusion_matrix: tabla creada con pd.crosstab()\n",
    "    \n",
    "    \"\"\"\n",
    "    chi2 = ss.chi2_contingency(confusion_matrix)[0]\n",
    "    n = confusion_matrix.sum()\n",
    "    phi2 = chi2 / n\n",
    "    r, k = confusion_matrix.shape\n",
    "    phi2corr = max(0, phi2 - ((k-1)*(r-1))/(n-1))\n",
    "    rcorr = r - ((r-1)**2)/(n-1)\n",
    "    kcorr = k - ((k-1)**2)/(n-1)\n",
    "    return np.sqrt(phi2corr / min((kcorr-1), (rcorr-1)))"
   ]
  },
  {
   "cell_type": "markdown",
   "id": "90f3f50c",
   "metadata": {},
   "source": [
    "Leemos el dataset"
   ]
  },
  {
   "cell_type": "code",
   "execution_count": 6,
   "id": "91ee46d7",
   "metadata": {
    "scrolled": true
   },
   "outputs": [
    {
     "data": {
      "text/html": [
       "<div>\n",
       "<style scoped>\n",
       "    .dataframe tbody tr th:only-of-type {\n",
       "        vertical-align: middle;\n",
       "    }\n",
       "\n",
       "    .dataframe tbody tr th {\n",
       "        vertical-align: top;\n",
       "    }\n",
       "\n",
       "    .dataframe thead th {\n",
       "        text-align: right;\n",
       "    }\n",
       "</style>\n",
       "<table border=\"1\" class=\"dataframe\">\n",
       "  <thead>\n",
       "    <tr style=\"text-align: right;\">\n",
       "      <th></th>\n",
       "      <th>fraud_bool</th>\n",
       "      <th>income</th>\n",
       "      <th>name_email_similarity</th>\n",
       "      <th>prev_address_months_count</th>\n",
       "      <th>current_address_months_count</th>\n",
       "      <th>customer_age</th>\n",
       "      <th>days_since_request</th>\n",
       "      <th>intended_balcon_amount</th>\n",
       "      <th>payment_type</th>\n",
       "      <th>zip_count_4w</th>\n",
       "      <th>velocity_6h</th>\n",
       "      <th>velocity_24h</th>\n",
       "      <th>velocity_4w</th>\n",
       "      <th>bank_branch_count_8w</th>\n",
       "      <th>date_of_birth_distinct_emails_4w</th>\n",
       "      <th>employment_status</th>\n",
       "      <th>credit_risk_score</th>\n",
       "      <th>email_is_free</th>\n",
       "      <th>housing_status</th>\n",
       "      <th>phone_home_valid</th>\n",
       "      <th>phone_mobile_valid</th>\n",
       "      <th>bank_months_count</th>\n",
       "      <th>has_other_cards</th>\n",
       "      <th>proposed_credit_limit</th>\n",
       "      <th>foreign_request</th>\n",
       "      <th>source</th>\n",
       "      <th>session_length_in_minutes</th>\n",
       "      <th>device_os</th>\n",
       "      <th>keep_alive_session</th>\n",
       "      <th>device_distinct_emails_8w</th>\n",
       "      <th>device_fraud_count</th>\n",
       "      <th>month</th>\n",
       "    </tr>\n",
       "  </thead>\n",
       "  <tbody>\n",
       "    <tr>\n",
       "      <th>0</th>\n",
       "      <td>1</td>\n",
       "      <td>0.9</td>\n",
       "      <td>0.166828</td>\n",
       "      <td>-1</td>\n",
       "      <td>88</td>\n",
       "      <td>50</td>\n",
       "      <td>0.020925</td>\n",
       "      <td>-1.331345</td>\n",
       "      <td>AA</td>\n",
       "      <td>769</td>\n",
       "      <td>10650.765523</td>\n",
       "      <td>3134.319630</td>\n",
       "      <td>3863.647740</td>\n",
       "      <td>1</td>\n",
       "      <td>6</td>\n",
       "      <td>CA</td>\n",
       "      <td>185</td>\n",
       "      <td>0</td>\n",
       "      <td>BA</td>\n",
       "      <td>1</td>\n",
       "      <td>0</td>\n",
       "      <td>24</td>\n",
       "      <td>0</td>\n",
       "      <td>500.0</td>\n",
       "      <td>0</td>\n",
       "      <td>INTERNET</td>\n",
       "      <td>3.888115</td>\n",
       "      <td>windows</td>\n",
       "      <td>0</td>\n",
       "      <td>1</td>\n",
       "      <td>0</td>\n",
       "      <td>7</td>\n",
       "    </tr>\n",
       "    <tr>\n",
       "      <th>1</th>\n",
       "      <td>1</td>\n",
       "      <td>0.9</td>\n",
       "      <td>0.296286</td>\n",
       "      <td>-1</td>\n",
       "      <td>144</td>\n",
       "      <td>50</td>\n",
       "      <td>0.005418</td>\n",
       "      <td>-0.816224</td>\n",
       "      <td>AB</td>\n",
       "      <td>366</td>\n",
       "      <td>534.047319</td>\n",
       "      <td>2670.918292</td>\n",
       "      <td>3124.298166</td>\n",
       "      <td>718</td>\n",
       "      <td>3</td>\n",
       "      <td>CA</td>\n",
       "      <td>259</td>\n",
       "      <td>1</td>\n",
       "      <td>BA</td>\n",
       "      <td>0</td>\n",
       "      <td>0</td>\n",
       "      <td>15</td>\n",
       "      <td>0</td>\n",
       "      <td>1500.0</td>\n",
       "      <td>0</td>\n",
       "      <td>INTERNET</td>\n",
       "      <td>31.798819</td>\n",
       "      <td>windows</td>\n",
       "      <td>0</td>\n",
       "      <td>1</td>\n",
       "      <td>0</td>\n",
       "      <td>7</td>\n",
       "    </tr>\n",
       "    <tr>\n",
       "      <th>2</th>\n",
       "      <td>1</td>\n",
       "      <td>0.9</td>\n",
       "      <td>0.044985</td>\n",
       "      <td>-1</td>\n",
       "      <td>132</td>\n",
       "      <td>40</td>\n",
       "      <td>3.108549</td>\n",
       "      <td>-0.755728</td>\n",
       "      <td>AC</td>\n",
       "      <td>870</td>\n",
       "      <td>4048.534263</td>\n",
       "      <td>2893.621498</td>\n",
       "      <td>3159.590679</td>\n",
       "      <td>1</td>\n",
       "      <td>14</td>\n",
       "      <td>CB</td>\n",
       "      <td>177</td>\n",
       "      <td>1</td>\n",
       "      <td>BA</td>\n",
       "      <td>0</td>\n",
       "      <td>1</td>\n",
       "      <td>-1</td>\n",
       "      <td>0</td>\n",
       "      <td>200.0</td>\n",
       "      <td>0</td>\n",
       "      <td>INTERNET</td>\n",
       "      <td>4.728705</td>\n",
       "      <td>other</td>\n",
       "      <td>0</td>\n",
       "      <td>1</td>\n",
       "      <td>0</td>\n",
       "      <td>7</td>\n",
       "    </tr>\n",
       "    <tr>\n",
       "      <th>3</th>\n",
       "      <td>1</td>\n",
       "      <td>0.9</td>\n",
       "      <td>0.159511</td>\n",
       "      <td>-1</td>\n",
       "      <td>22</td>\n",
       "      <td>50</td>\n",
       "      <td>0.019079</td>\n",
       "      <td>-1.205124</td>\n",
       "      <td>AB</td>\n",
       "      <td>810</td>\n",
       "      <td>3457.064063</td>\n",
       "      <td>4054.908412</td>\n",
       "      <td>3022.261812</td>\n",
       "      <td>1921</td>\n",
       "      <td>6</td>\n",
       "      <td>CA</td>\n",
       "      <td>110</td>\n",
       "      <td>1</td>\n",
       "      <td>BA</td>\n",
       "      <td>0</td>\n",
       "      <td>1</td>\n",
       "      <td>31</td>\n",
       "      <td>1</td>\n",
       "      <td>200.0</td>\n",
       "      <td>0</td>\n",
       "      <td>INTERNET</td>\n",
       "      <td>2.047904</td>\n",
       "      <td>linux</td>\n",
       "      <td>0</td>\n",
       "      <td>1</td>\n",
       "      <td>0</td>\n",
       "      <td>7</td>\n",
       "    </tr>\n",
       "    <tr>\n",
       "      <th>4</th>\n",
       "      <td>1</td>\n",
       "      <td>0.9</td>\n",
       "      <td>0.596414</td>\n",
       "      <td>-1</td>\n",
       "      <td>218</td>\n",
       "      <td>50</td>\n",
       "      <td>0.004441</td>\n",
       "      <td>-0.773276</td>\n",
       "      <td>AB</td>\n",
       "      <td>890</td>\n",
       "      <td>5020.341679</td>\n",
       "      <td>2728.237159</td>\n",
       "      <td>3087.670952</td>\n",
       "      <td>1990</td>\n",
       "      <td>2</td>\n",
       "      <td>CA</td>\n",
       "      <td>295</td>\n",
       "      <td>1</td>\n",
       "      <td>BA</td>\n",
       "      <td>1</td>\n",
       "      <td>0</td>\n",
       "      <td>31</td>\n",
       "      <td>0</td>\n",
       "      <td>1500.0</td>\n",
       "      <td>0</td>\n",
       "      <td>INTERNET</td>\n",
       "      <td>3.775225</td>\n",
       "      <td>macintosh</td>\n",
       "      <td>1</td>\n",
       "      <td>1</td>\n",
       "      <td>0</td>\n",
       "      <td>7</td>\n",
       "    </tr>\n",
       "    <tr>\n",
       "      <th>...</th>\n",
       "      <td>...</td>\n",
       "      <td>...</td>\n",
       "      <td>...</td>\n",
       "      <td>...</td>\n",
       "      <td>...</td>\n",
       "      <td>...</td>\n",
       "      <td>...</td>\n",
       "      <td>...</td>\n",
       "      <td>...</td>\n",
       "      <td>...</td>\n",
       "      <td>...</td>\n",
       "      <td>...</td>\n",
       "      <td>...</td>\n",
       "      <td>...</td>\n",
       "      <td>...</td>\n",
       "      <td>...</td>\n",
       "      <td>...</td>\n",
       "      <td>...</td>\n",
       "      <td>...</td>\n",
       "      <td>...</td>\n",
       "      <td>...</td>\n",
       "      <td>...</td>\n",
       "      <td>...</td>\n",
       "      <td>...</td>\n",
       "      <td>...</td>\n",
       "      <td>...</td>\n",
       "      <td>...</td>\n",
       "      <td>...</td>\n",
       "      <td>...</td>\n",
       "      <td>...</td>\n",
       "      <td>...</td>\n",
       "      <td>...</td>\n",
       "    </tr>\n",
       "    <tr>\n",
       "      <th>999995</th>\n",
       "      <td>0</td>\n",
       "      <td>0.6</td>\n",
       "      <td>0.192631</td>\n",
       "      <td>-1</td>\n",
       "      <td>104</td>\n",
       "      <td>40</td>\n",
       "      <td>0.030592</td>\n",
       "      <td>-1.044454</td>\n",
       "      <td>AB</td>\n",
       "      <td>804</td>\n",
       "      <td>7905.711839</td>\n",
       "      <td>8341.468557</td>\n",
       "      <td>4972.635997</td>\n",
       "      <td>1</td>\n",
       "      <td>8</td>\n",
       "      <td>CA</td>\n",
       "      <td>75</td>\n",
       "      <td>1</td>\n",
       "      <td>BC</td>\n",
       "      <td>1</td>\n",
       "      <td>1</td>\n",
       "      <td>25</td>\n",
       "      <td>0</td>\n",
       "      <td>200.0</td>\n",
       "      <td>0</td>\n",
       "      <td>INTERNET</td>\n",
       "      <td>8.511502</td>\n",
       "      <td>linux</td>\n",
       "      <td>1</td>\n",
       "      <td>1</td>\n",
       "      <td>0</td>\n",
       "      <td>4</td>\n",
       "    </tr>\n",
       "    <tr>\n",
       "      <th>999996</th>\n",
       "      <td>0</td>\n",
       "      <td>0.8</td>\n",
       "      <td>0.322989</td>\n",
       "      <td>148</td>\n",
       "      <td>9</td>\n",
       "      <td>50</td>\n",
       "      <td>1.628119</td>\n",
       "      <td>-1.409803</td>\n",
       "      <td>AC</td>\n",
       "      <td>3306</td>\n",
       "      <td>5391.470463</td>\n",
       "      <td>4955.170808</td>\n",
       "      <td>5022.728108</td>\n",
       "      <td>0</td>\n",
       "      <td>2</td>\n",
       "      <td>CC</td>\n",
       "      <td>154</td>\n",
       "      <td>1</td>\n",
       "      <td>BC</td>\n",
       "      <td>1</td>\n",
       "      <td>1</td>\n",
       "      <td>-1</td>\n",
       "      <td>0</td>\n",
       "      <td>200.0</td>\n",
       "      <td>0</td>\n",
       "      <td>INTERNET</td>\n",
       "      <td>8.967865</td>\n",
       "      <td>windows</td>\n",
       "      <td>0</td>\n",
       "      <td>1</td>\n",
       "      <td>0</td>\n",
       "      <td>4</td>\n",
       "    </tr>\n",
       "    <tr>\n",
       "      <th>999997</th>\n",
       "      <td>0</td>\n",
       "      <td>0.8</td>\n",
       "      <td>0.879403</td>\n",
       "      <td>-1</td>\n",
       "      <td>30</td>\n",
       "      <td>20</td>\n",
       "      <td>0.018563</td>\n",
       "      <td>34.692760</td>\n",
       "      <td>AA</td>\n",
       "      <td>1522</td>\n",
       "      <td>8063.102636</td>\n",
       "      <td>5670.654316</td>\n",
       "      <td>4377.196321</td>\n",
       "      <td>2023</td>\n",
       "      <td>6</td>\n",
       "      <td>CF</td>\n",
       "      <td>64</td>\n",
       "      <td>0</td>\n",
       "      <td>BC</td>\n",
       "      <td>0</td>\n",
       "      <td>1</td>\n",
       "      <td>11</td>\n",
       "      <td>0</td>\n",
       "      <td>200.0</td>\n",
       "      <td>0</td>\n",
       "      <td>INTERNET</td>\n",
       "      <td>8.195531</td>\n",
       "      <td>other</td>\n",
       "      <td>0</td>\n",
       "      <td>1</td>\n",
       "      <td>0</td>\n",
       "      <td>4</td>\n",
       "    </tr>\n",
       "    <tr>\n",
       "      <th>999998</th>\n",
       "      <td>0</td>\n",
       "      <td>0.9</td>\n",
       "      <td>0.762112</td>\n",
       "      <td>-1</td>\n",
       "      <td>189</td>\n",
       "      <td>20</td>\n",
       "      <td>0.015352</td>\n",
       "      <td>94.661055</td>\n",
       "      <td>AA</td>\n",
       "      <td>1418</td>\n",
       "      <td>8092.641762</td>\n",
       "      <td>3982.582204</td>\n",
       "      <td>4394.803296</td>\n",
       "      <td>1678</td>\n",
       "      <td>6</td>\n",
       "      <td>CA</td>\n",
       "      <td>163</td>\n",
       "      <td>0</td>\n",
       "      <td>BA</td>\n",
       "      <td>1</td>\n",
       "      <td>0</td>\n",
       "      <td>28</td>\n",
       "      <td>0</td>\n",
       "      <td>500.0</td>\n",
       "      <td>0</td>\n",
       "      <td>INTERNET</td>\n",
       "      <td>4.336064</td>\n",
       "      <td>windows</td>\n",
       "      <td>1</td>\n",
       "      <td>1</td>\n",
       "      <td>0</td>\n",
       "      <td>4</td>\n",
       "    </tr>\n",
       "    <tr>\n",
       "      <th>999999</th>\n",
       "      <td>0</td>\n",
       "      <td>0.2</td>\n",
       "      <td>0.697452</td>\n",
       "      <td>-1</td>\n",
       "      <td>321</td>\n",
       "      <td>20</td>\n",
       "      <td>2.655916</td>\n",
       "      <td>9.908499</td>\n",
       "      <td>AA</td>\n",
       "      <td>951</td>\n",
       "      <td>6169.630036</td>\n",
       "      <td>3695.308261</td>\n",
       "      <td>4352.334543</td>\n",
       "      <td>2</td>\n",
       "      <td>12</td>\n",
       "      <td>CA</td>\n",
       "      <td>36</td>\n",
       "      <td>1</td>\n",
       "      <td>BE</td>\n",
       "      <td>0</td>\n",
       "      <td>1</td>\n",
       "      <td>15</td>\n",
       "      <td>0</td>\n",
       "      <td>200.0</td>\n",
       "      <td>0</td>\n",
       "      <td>INTERNET</td>\n",
       "      <td>6.717022</td>\n",
       "      <td>linux</td>\n",
       "      <td>0</td>\n",
       "      <td>1</td>\n",
       "      <td>0</td>\n",
       "      <td>4</td>\n",
       "    </tr>\n",
       "  </tbody>\n",
       "</table>\n",
       "<p>1000000 rows × 32 columns</p>\n",
       "</div>"
      ],
      "text/plain": [
       "        fraud_bool  income  name_email_similarity  prev_address_months_count  \\\n",
       "0                1     0.9               0.166828                         -1   \n",
       "1                1     0.9               0.296286                         -1   \n",
       "2                1     0.9               0.044985                         -1   \n",
       "3                1     0.9               0.159511                         -1   \n",
       "4                1     0.9               0.596414                         -1   \n",
       "...            ...     ...                    ...                        ...   \n",
       "999995           0     0.6               0.192631                         -1   \n",
       "999996           0     0.8               0.322989                        148   \n",
       "999997           0     0.8               0.879403                         -1   \n",
       "999998           0     0.9               0.762112                         -1   \n",
       "999999           0     0.2               0.697452                         -1   \n",
       "\n",
       "        current_address_months_count  customer_age  days_since_request  \\\n",
       "0                                 88            50            0.020925   \n",
       "1                                144            50            0.005418   \n",
       "2                                132            40            3.108549   \n",
       "3                                 22            50            0.019079   \n",
       "4                                218            50            0.004441   \n",
       "...                              ...           ...                 ...   \n",
       "999995                           104            40            0.030592   \n",
       "999996                             9            50            1.628119   \n",
       "999997                            30            20            0.018563   \n",
       "999998                           189            20            0.015352   \n",
       "999999                           321            20            2.655916   \n",
       "\n",
       "        intended_balcon_amount payment_type  zip_count_4w   velocity_6h  \\\n",
       "0                    -1.331345           AA           769  10650.765523   \n",
       "1                    -0.816224           AB           366    534.047319   \n",
       "2                    -0.755728           AC           870   4048.534263   \n",
       "3                    -1.205124           AB           810   3457.064063   \n",
       "4                    -0.773276           AB           890   5020.341679   \n",
       "...                        ...          ...           ...           ...   \n",
       "999995               -1.044454           AB           804   7905.711839   \n",
       "999996               -1.409803           AC          3306   5391.470463   \n",
       "999997               34.692760           AA          1522   8063.102636   \n",
       "999998               94.661055           AA          1418   8092.641762   \n",
       "999999                9.908499           AA           951   6169.630036   \n",
       "\n",
       "        velocity_24h  velocity_4w  bank_branch_count_8w  \\\n",
       "0        3134.319630  3863.647740                     1   \n",
       "1        2670.918292  3124.298166                   718   \n",
       "2        2893.621498  3159.590679                     1   \n",
       "3        4054.908412  3022.261812                  1921   \n",
       "4        2728.237159  3087.670952                  1990   \n",
       "...              ...          ...                   ...   \n",
       "999995   8341.468557  4972.635997                     1   \n",
       "999996   4955.170808  5022.728108                     0   \n",
       "999997   5670.654316  4377.196321                  2023   \n",
       "999998   3982.582204  4394.803296                  1678   \n",
       "999999   3695.308261  4352.334543                     2   \n",
       "\n",
       "        date_of_birth_distinct_emails_4w employment_status  credit_risk_score  \\\n",
       "0                                      6                CA                185   \n",
       "1                                      3                CA                259   \n",
       "2                                     14                CB                177   \n",
       "3                                      6                CA                110   \n",
       "4                                      2                CA                295   \n",
       "...                                  ...               ...                ...   \n",
       "999995                                 8                CA                 75   \n",
       "999996                                 2                CC                154   \n",
       "999997                                 6                CF                 64   \n",
       "999998                                 6                CA                163   \n",
       "999999                                12                CA                 36   \n",
       "\n",
       "        email_is_free housing_status  phone_home_valid  phone_mobile_valid  \\\n",
       "0                   0             BA                 1                   0   \n",
       "1                   1             BA                 0                   0   \n",
       "2                   1             BA                 0                   1   \n",
       "3                   1             BA                 0                   1   \n",
       "4                   1             BA                 1                   0   \n",
       "...               ...            ...               ...                 ...   \n",
       "999995              1             BC                 1                   1   \n",
       "999996              1             BC                 1                   1   \n",
       "999997              0             BC                 0                   1   \n",
       "999998              0             BA                 1                   0   \n",
       "999999              1             BE                 0                   1   \n",
       "\n",
       "        bank_months_count  has_other_cards  proposed_credit_limit  \\\n",
       "0                      24                0                  500.0   \n",
       "1                      15                0                 1500.0   \n",
       "2                      -1                0                  200.0   \n",
       "3                      31                1                  200.0   \n",
       "4                      31                0                 1500.0   \n",
       "...                   ...              ...                    ...   \n",
       "999995                 25                0                  200.0   \n",
       "999996                 -1                0                  200.0   \n",
       "999997                 11                0                  200.0   \n",
       "999998                 28                0                  500.0   \n",
       "999999                 15                0                  200.0   \n",
       "\n",
       "        foreign_request    source  session_length_in_minutes  device_os  \\\n",
       "0                     0  INTERNET                   3.888115    windows   \n",
       "1                     0  INTERNET                  31.798819    windows   \n",
       "2                     0  INTERNET                   4.728705      other   \n",
       "3                     0  INTERNET                   2.047904      linux   \n",
       "4                     0  INTERNET                   3.775225  macintosh   \n",
       "...                 ...       ...                        ...        ...   \n",
       "999995                0  INTERNET                   8.511502      linux   \n",
       "999996                0  INTERNET                   8.967865    windows   \n",
       "999997                0  INTERNET                   8.195531      other   \n",
       "999998                0  INTERNET                   4.336064    windows   \n",
       "999999                0  INTERNET                   6.717022      linux   \n",
       "\n",
       "        keep_alive_session  device_distinct_emails_8w  device_fraud_count  \\\n",
       "0                        0                          1                   0   \n",
       "1                        0                          1                   0   \n",
       "2                        0                          1                   0   \n",
       "3                        0                          1                   0   \n",
       "4                        1                          1                   0   \n",
       "...                    ...                        ...                 ...   \n",
       "999995                   1                          1                   0   \n",
       "999996                   0                          1                   0   \n",
       "999997                   0                          1                   0   \n",
       "999998                   1                          1                   0   \n",
       "999999                   0                          1                   0   \n",
       "\n",
       "        month  \n",
       "0           7  \n",
       "1           7  \n",
       "2           7  \n",
       "3           7  \n",
       "4           7  \n",
       "...       ...  \n",
       "999995      4  \n",
       "999996      4  \n",
       "999997      4  \n",
       "999998      4  \n",
       "999999      4  \n",
       "\n",
       "[1000000 rows x 32 columns]"
      ]
     },
     "execution_count": 6,
     "metadata": {},
     "output_type": "execute_result"
    }
   ],
   "source": [
    "pd_fraud = pd.read_csv(\"../data/Base.csv\",low_memory=False)\n",
    "pd_fraud"
   ]
  },
  {
   "cell_type": "code",
   "execution_count": 7,
   "id": "d3a4d438",
   "metadata": {},
   "outputs": [
    {
     "name": "stdout",
     "output_type": "stream",
     "text": [
      "32\n"
     ]
    }
   ],
   "source": [
    "print(len(pd_fraud.columns))"
   ]
  },
  {
   "cell_type": "code",
   "execution_count": 8,
   "id": "ba412d0b",
   "metadata": {
    "scrolled": true
   },
   "outputs": [
    {
     "data": {
      "text/plain": [
       "Index(['fraud_bool', 'income', 'name_email_similarity',\n",
       "       'prev_address_months_count', 'current_address_months_count',\n",
       "       'customer_age', 'days_since_request', 'intended_balcon_amount',\n",
       "       'payment_type', 'zip_count_4w', 'velocity_6h', 'velocity_24h',\n",
       "       'velocity_4w', 'bank_branch_count_8w',\n",
       "       'date_of_birth_distinct_emails_4w', 'employment_status',\n",
       "       'credit_risk_score', 'email_is_free', 'housing_status',\n",
       "       'phone_home_valid', 'phone_mobile_valid', 'bank_months_count',\n",
       "       'has_other_cards', 'proposed_credit_limit', 'foreign_request', 'source',\n",
       "       'session_length_in_minutes', 'device_os', 'keep_alive_session',\n",
       "       'device_distinct_emails_8w', 'device_fraud_count', 'month'],\n",
       "      dtype='object')"
      ]
     },
     "execution_count": 8,
     "metadata": {},
     "output_type": "execute_result"
    }
   ],
   "source": [
    "pd_fraud.columns"
   ]
  },
  {
   "cell_type": "markdown",
   "id": "df4b0ba6",
   "metadata": {},
   "source": [
    "Al leer la información del Dataset vemos que hay columnas que son categóricas. Hacemos una lista con esas variables que nos será\n",
    "útil para futuras operaciones."
   ]
  },
  {
   "cell_type": "code",
   "execution_count": 9,
   "id": "f8dc127b",
   "metadata": {
    "scrolled": true
   },
   "outputs": [
    {
     "data": {
      "text/plain": [
       "['payment_type',\n",
       " 'employment_status',\n",
       " 'housing_status',\n",
       " 'email_is_free',\n",
       " 'phone_home_valid',\n",
       " 'phone_mobile_valid',\n",
       " 'has_other_cards',\n",
       " 'foreign_request',\n",
       " 'device_os',\n",
       " 'keep_alive_session',\n",
       " 'fraud_bool']"
      ]
     },
     "execution_count": 9,
     "metadata": {},
     "output_type": "execute_result"
    }
   ],
   "source": [
    " lista_variables_categoricas = [\"payment_type\",\"employment_status\",\"housing_status\",\"email_is_free\",\"phone_home_valid\",\n",
    "                                \"phone_mobile_valid\",\"has_other_cards\",\"foreign_request\",\"device_os\",\"keep_alive_session\",\n",
    "                               \"fraud_bool\"]\n",
    "lista_variables_categoricas"
   ]
  },
  {
   "cell_type": "markdown",
   "id": "b889af27",
   "metadata": {},
   "source": [
    "Vemos la cantidad de filas y columnas del test originalmente y después de borrar los duplicados.Como podemos observar es la misma cantidad,\n",
    "por lo que en nuestro DataSet no tenemos duplicados."
   ]
  },
  {
   "cell_type": "code",
   "execution_count": 10,
   "id": "3315ce78",
   "metadata": {
    "scrolled": true
   },
   "outputs": [
    {
     "name": "stdout",
     "output_type": "stream",
     "text": [
      "(1000000, 32) (1000000, 32)\n"
     ]
    }
   ],
   "source": [
    "print(pd_fraud.shape, pd_fraud.drop_duplicates().shape)"
   ]
  },
  {
   "cell_type": "markdown",
   "id": "8118065b",
   "metadata": {},
   "source": [
    "Convertimos los tipos de columnas en diccionario. Es una forma de ver que tipo de dato es cada columna."
   ]
  },
  {
   "cell_type": "code",
   "execution_count": 11,
   "id": "6234bcd1",
   "metadata": {
    "scrolled": false
   },
   "outputs": [
    {
     "data": {
      "text/plain": [
       "{'fraud_bool': dtype('int64'),\n",
       " 'income': dtype('float64'),\n",
       " 'name_email_similarity': dtype('float64'),\n",
       " 'prev_address_months_count': dtype('int64'),\n",
       " 'current_address_months_count': dtype('int64'),\n",
       " 'customer_age': dtype('int64'),\n",
       " 'days_since_request': dtype('float64'),\n",
       " 'intended_balcon_amount': dtype('float64'),\n",
       " 'payment_type': dtype('O'),\n",
       " 'zip_count_4w': dtype('int64'),\n",
       " 'velocity_6h': dtype('float64'),\n",
       " 'velocity_24h': dtype('float64'),\n",
       " 'velocity_4w': dtype('float64'),\n",
       " 'bank_branch_count_8w': dtype('int64'),\n",
       " 'date_of_birth_distinct_emails_4w': dtype('int64'),\n",
       " 'employment_status': dtype('O'),\n",
       " 'credit_risk_score': dtype('int64'),\n",
       " 'email_is_free': dtype('int64'),\n",
       " 'housing_status': dtype('O'),\n",
       " 'phone_home_valid': dtype('int64'),\n",
       " 'phone_mobile_valid': dtype('int64'),\n",
       " 'bank_months_count': dtype('int64'),\n",
       " 'has_other_cards': dtype('int64'),\n",
       " 'proposed_credit_limit': dtype('float64'),\n",
       " 'foreign_request': dtype('int64'),\n",
       " 'source': dtype('O'),\n",
       " 'session_length_in_minutes': dtype('float64'),\n",
       " 'device_os': dtype('O'),\n",
       " 'keep_alive_session': dtype('int64'),\n",
       " 'device_distinct_emails_8w': dtype('int64'),\n",
       " 'device_fraud_count': dtype('int64'),\n",
       " 'month': dtype('int64')}"
      ]
     },
     "execution_count": 11,
     "metadata": {},
     "output_type": "execute_result"
    }
   ],
   "source": [
    "pd_fraud.dtypes.to_dict()"
   ]
  },
  {
   "cell_type": "code",
   "execution_count": null,
   "id": "94bc22b1",
   "metadata": {},
   "outputs": [],
   "source": []
  },
  {
   "cell_type": "markdown",
   "id": "ce5bf763",
   "metadata": {},
   "source": [
    "En el diccionario anterior se observa que Python interpreto las columnas que eran categoricas como otro tipo de dato. \n",
    "Por ello realizamos un bucle que nos convierta esaas columnas en datos categóricos."
   ]
  },
  {
   "cell_type": "code",
   "execution_count": 12,
   "id": "4f18ac61",
   "metadata": {},
   "outputs": [],
   "source": [
    "for columna in lista_variables_categoricas:\n",
    "    pd_fraud[columna] = pd_fraud[columna].astype('category')"
   ]
  },
  {
   "cell_type": "markdown",
   "id": "5f0cf6d0",
   "metadata": {},
   "source": [
    "Convertimos nuestra columna objetivo, que es la que nos indica si hay o no hay fraude en string."
   ]
  },
  {
   "cell_type": "code",
   "execution_count": 13,
   "id": "470e9073",
   "metadata": {},
   "outputs": [],
   "source": [
    "pd_fraud[\"fraud_bool\"] = pd_fraud[\"fraud_bool\"].astype(str)"
   ]
  },
  {
   "cell_type": "markdown",
   "id": "5305adc0",
   "metadata": {},
   "source": [
    "Observamos que los cambios se han realizado correctamente"
   ]
  },
  {
   "cell_type": "code",
   "execution_count": 14,
   "id": "117b531a",
   "metadata": {},
   "outputs": [
    {
     "data": {
      "text/plain": [
       "fraud_bool                            object\n",
       "income                               float64\n",
       "name_email_similarity                float64\n",
       "prev_address_months_count              int64\n",
       "current_address_months_count           int64\n",
       "customer_age                           int64\n",
       "days_since_request                   float64\n",
       "intended_balcon_amount               float64\n",
       "payment_type                        category\n",
       "zip_count_4w                           int64\n",
       "velocity_6h                          float64\n",
       "velocity_24h                         float64\n",
       "velocity_4w                          float64\n",
       "bank_branch_count_8w                   int64\n",
       "date_of_birth_distinct_emails_4w       int64\n",
       "employment_status                   category\n",
       "credit_risk_score                      int64\n",
       "email_is_free                       category\n",
       "housing_status                      category\n",
       "phone_home_valid                    category\n",
       "phone_mobile_valid                  category\n",
       "bank_months_count                      int64\n",
       "has_other_cards                     category\n",
       "proposed_credit_limit                float64\n",
       "foreign_request                     category\n",
       "source                                object\n",
       "session_length_in_minutes            float64\n",
       "device_os                           category\n",
       "keep_alive_session                  category\n",
       "device_distinct_emails_8w              int64\n",
       "device_fraud_count                     int64\n",
       "month                                  int64\n",
       "dtype: object"
      ]
     },
     "execution_count": 14,
     "metadata": {},
     "output_type": "execute_result"
    }
   ],
   "source": [
    "pd_fraud.dtypes"
   ]
  },
  {
   "cell_type": "code",
   "execution_count": 15,
   "id": "e0ea19c6",
   "metadata": {
    "scrolled": true
   },
   "outputs": [
    {
     "data": {
      "text/plain": [
       "{'fraud_bool': dtype('O'),\n",
       " 'income': dtype('float64'),\n",
       " 'name_email_similarity': dtype('float64'),\n",
       " 'prev_address_months_count': dtype('int64'),\n",
       " 'current_address_months_count': dtype('int64'),\n",
       " 'customer_age': dtype('int64'),\n",
       " 'days_since_request': dtype('float64'),\n",
       " 'intended_balcon_amount': dtype('float64'),\n",
       " 'payment_type': CategoricalDtype(categories=['AA', 'AB', 'AC', 'AD', 'AE'], ordered=False, categories_dtype=object),\n",
       " 'zip_count_4w': dtype('int64'),\n",
       " 'velocity_6h': dtype('float64'),\n",
       " 'velocity_24h': dtype('float64'),\n",
       " 'velocity_4w': dtype('float64'),\n",
       " 'bank_branch_count_8w': dtype('int64'),\n",
       " 'date_of_birth_distinct_emails_4w': dtype('int64'),\n",
       " 'employment_status': CategoricalDtype(categories=['CA', 'CB', 'CC', 'CD', 'CE', 'CF', 'CG'], ordered=False, categories_dtype=object),\n",
       " 'credit_risk_score': dtype('int64'),\n",
       " 'email_is_free': CategoricalDtype(categories=[0, 1], ordered=False, categories_dtype=int64),\n",
       " 'housing_status': CategoricalDtype(categories=['BA', 'BB', 'BC', 'BD', 'BE', 'BF', 'BG'], ordered=False, categories_dtype=object),\n",
       " 'phone_home_valid': CategoricalDtype(categories=[0, 1], ordered=False, categories_dtype=int64),\n",
       " 'phone_mobile_valid': CategoricalDtype(categories=[0, 1], ordered=False, categories_dtype=int64),\n",
       " 'bank_months_count': dtype('int64'),\n",
       " 'has_other_cards': CategoricalDtype(categories=[0, 1], ordered=False, categories_dtype=int64),\n",
       " 'proposed_credit_limit': dtype('float64'),\n",
       " 'foreign_request': CategoricalDtype(categories=[0, 1], ordered=False, categories_dtype=int64),\n",
       " 'source': dtype('O'),\n",
       " 'session_length_in_minutes': dtype('float64'),\n",
       " 'device_os': CategoricalDtype(categories=['linux', 'macintosh', 'other', 'windows', 'x11'], ordered=False, categories_dtype=object),\n",
       " 'keep_alive_session': CategoricalDtype(categories=[0, 1], ordered=False, categories_dtype=int64),\n",
       " 'device_distinct_emails_8w': dtype('int64'),\n",
       " 'device_fraud_count': dtype('int64'),\n",
       " 'month': dtype('int64')}"
      ]
     },
     "execution_count": 15,
     "metadata": {},
     "output_type": "execute_result"
    }
   ],
   "source": [
    "pd_fraud.dtypes.to_dict()"
   ]
  },
  {
   "cell_type": "markdown",
   "id": "e5cd2cd1",
   "metadata": {},
   "source": [
    "Hacemos un conteo de los datos de fraud_bool para realizar posteriormente un gráfico. Así sabremos la proporción de \n",
    "Fraude y No fraude que tenemos. El 0 representa No fraude mientras que el 1 el Fraude."
   ]
  },
  {
   "cell_type": "markdown",
   "id": "a9ad9fb8",
   "metadata": {},
   "source": [
    "Primero lo hacemos con porcentaje y despues en valores absolutos"
   ]
  },
  {
   "cell_type": "code",
   "execution_count": 16,
   "id": "4471e043",
   "metadata": {},
   "outputs": [],
   "source": [
    "pd_plot_fraud_bool = pd_fraud['fraud_bool']\\\n",
    "        .value_counts(normalize=True)\\\n",
    "        .mul(100).rename('percent').reset_index()"
   ]
  },
  {
   "cell_type": "code",
   "execution_count": 17,
   "id": "cc2e3bbf",
   "metadata": {},
   "outputs": [
    {
     "data": {
      "text/html": [
       "<div>\n",
       "<style scoped>\n",
       "    .dataframe tbody tr th:only-of-type {\n",
       "        vertical-align: middle;\n",
       "    }\n",
       "\n",
       "    .dataframe tbody tr th {\n",
       "        vertical-align: top;\n",
       "    }\n",
       "\n",
       "    .dataframe thead th {\n",
       "        text-align: right;\n",
       "    }\n",
       "</style>\n",
       "<table border=\"1\" class=\"dataframe\">\n",
       "  <thead>\n",
       "    <tr style=\"text-align: right;\">\n",
       "      <th></th>\n",
       "      <th>fraud_bool</th>\n",
       "      <th>percent</th>\n",
       "    </tr>\n",
       "  </thead>\n",
       "  <tbody>\n",
       "    <tr>\n",
       "      <th>0</th>\n",
       "      <td>0</td>\n",
       "      <td>98.8971</td>\n",
       "    </tr>\n",
       "    <tr>\n",
       "      <th>1</th>\n",
       "      <td>1</td>\n",
       "      <td>1.1029</td>\n",
       "    </tr>\n",
       "  </tbody>\n",
       "</table>\n",
       "</div>"
      ],
      "text/plain": [
       "  fraud_bool  percent\n",
       "0          0  98.8971\n",
       "1          1   1.1029"
      ]
     },
     "execution_count": 17,
     "metadata": {},
     "output_type": "execute_result"
    }
   ],
   "source": [
    "pd_plot_fraud_bool"
   ]
  },
  {
   "cell_type": "code",
   "execution_count": 18,
   "id": "954cedf0",
   "metadata": {},
   "outputs": [
    {
     "data": {
      "text/html": [
       "<div>\n",
       "<style scoped>\n",
       "    .dataframe tbody tr th:only-of-type {\n",
       "        vertical-align: middle;\n",
       "    }\n",
       "\n",
       "    .dataframe tbody tr th {\n",
       "        vertical-align: top;\n",
       "    }\n",
       "\n",
       "    .dataframe thead th {\n",
       "        text-align: right;\n",
       "    }\n",
       "</style>\n",
       "<table border=\"1\" class=\"dataframe\">\n",
       "  <thead>\n",
       "    <tr style=\"text-align: right;\">\n",
       "      <th></th>\n",
       "      <th>fraud_bool</th>\n",
       "      <th>count</th>\n",
       "    </tr>\n",
       "  </thead>\n",
       "  <tbody>\n",
       "    <tr>\n",
       "      <th>0</th>\n",
       "      <td>0</td>\n",
       "      <td>988971</td>\n",
       "    </tr>\n",
       "    <tr>\n",
       "      <th>1</th>\n",
       "      <td>1</td>\n",
       "      <td>11029</td>\n",
       "    </tr>\n",
       "  </tbody>\n",
       "</table>\n",
       "</div>"
      ],
      "text/plain": [
       "  fraud_bool   count\n",
       "0          0  988971\n",
       "1          1   11029"
      ]
     },
     "execution_count": 18,
     "metadata": {},
     "output_type": "execute_result"
    }
   ],
   "source": [
    "pd_plot_fraud_bool_conteo = pd_fraud['fraud_bool'].value_counts().reset_index()\n",
    "pd_plot_fraud_bool_conteo\n"
   ]
  },
  {
   "cell_type": "code",
   "execution_count": 19,
   "id": "d42de9fd",
   "metadata": {
    "scrolled": true
   },
   "outputs": [
    {
     "data": {
      "text/html": [
       "<div>\n",
       "<style scoped>\n",
       "    .dataframe tbody tr th:only-of-type {\n",
       "        vertical-align: middle;\n",
       "    }\n",
       "\n",
       "    .dataframe tbody tr th {\n",
       "        vertical-align: top;\n",
       "    }\n",
       "\n",
       "    .dataframe thead th {\n",
       "        text-align: right;\n",
       "    }\n",
       "</style>\n",
       "<table border=\"1\" class=\"dataframe\">\n",
       "  <thead>\n",
       "    <tr style=\"text-align: right;\">\n",
       "      <th></th>\n",
       "      <th>fraud_bool</th>\n",
       "      <th>percent</th>\n",
       "      <th>count</th>\n",
       "    </tr>\n",
       "  </thead>\n",
       "  <tbody>\n",
       "    <tr>\n",
       "      <th>0</th>\n",
       "      <td>0</td>\n",
       "      <td>98.8971</td>\n",
       "      <td>988971</td>\n",
       "    </tr>\n",
       "    <tr>\n",
       "      <th>1</th>\n",
       "      <td>1</td>\n",
       "      <td>1.1029</td>\n",
       "      <td>11029</td>\n",
       "    </tr>\n",
       "  </tbody>\n",
       "</table>\n",
       "</div>"
      ],
      "text/plain": [
       "  fraud_bool  percent   count\n",
       "0          0  98.8971  988971\n",
       "1          1   1.1029   11029"
      ]
     },
     "execution_count": 19,
     "metadata": {},
     "output_type": "execute_result"
    }
   ],
   "source": [
    "pd_plot_fraud_bool_pc = pd_plot_fraud_bool.merge(pd_plot_fraud_bool_conteo, on='fraud_bool', how='inner')\n",
    "pd_plot_fraud_bool_pc"
   ]
  },
  {
   "cell_type": "markdown",
   "id": "c9d7bd3d",
   "metadata": {},
   "source": [
    "Realizamos el gráfico y se puede observar tanto númericamente como graficamente que el porcentaje de Fraude es muy reducido\n",
    "en comparacion al de No fraude."
   ]
  },
  {
   "cell_type": "code",
   "execution_count": 20,
   "id": "81cdd4a7",
   "metadata": {},
   "outputs": [],
   "source": [
    "fig=px.bar(pd_plot_fraud_bool_pc,x='fraud_bool',y='percent')"
   ]
  },
  {
   "cell_type": "code",
   "execution_count": 21,
   "id": "be01b571",
   "metadata": {
    "scrolled": true
   },
   "outputs": [
    {
     "data": {
      "application/vnd.plotly.v1+json": {
       "config": {
        "plotlyServerURL": "https://plot.ly"
       },
       "data": [
        {
         "alignmentgroup": "True",
         "hovertemplate": "fraud_bool=%{x}<br>percent=%{y}<extra></extra>",
         "legendgroup": "",
         "marker": {
          "color": "#636efa",
          "pattern": {
           "shape": ""
          }
         },
         "name": "",
         "offsetgroup": "",
         "orientation": "v",
         "showlegend": false,
         "textposition": "auto",
         "type": "bar",
         "x": [
          "0",
          "1"
         ],
         "xaxis": "x",
         "y": [
          98.89710000000001,
          1.1029
         ],
         "yaxis": "y"
        }
       ],
       "layout": {
        "barmode": "relative",
        "legend": {
         "tracegroupgap": 0
        },
        "margin": {
         "t": 60
        },
        "template": {
         "data": {
          "bar": [
           {
            "error_x": {
             "color": "#2a3f5f"
            },
            "error_y": {
             "color": "#2a3f5f"
            },
            "marker": {
             "line": {
              "color": "#E5ECF6",
              "width": 0.5
             },
             "pattern": {
              "fillmode": "overlay",
              "size": 10,
              "solidity": 0.2
             }
            },
            "type": "bar"
           }
          ],
          "barpolar": [
           {
            "marker": {
             "line": {
              "color": "#E5ECF6",
              "width": 0.5
             },
             "pattern": {
              "fillmode": "overlay",
              "size": 10,
              "solidity": 0.2
             }
            },
            "type": "barpolar"
           }
          ],
          "carpet": [
           {
            "aaxis": {
             "endlinecolor": "#2a3f5f",
             "gridcolor": "white",
             "linecolor": "white",
             "minorgridcolor": "white",
             "startlinecolor": "#2a3f5f"
            },
            "baxis": {
             "endlinecolor": "#2a3f5f",
             "gridcolor": "white",
             "linecolor": "white",
             "minorgridcolor": "white",
             "startlinecolor": "#2a3f5f"
            },
            "type": "carpet"
           }
          ],
          "choropleth": [
           {
            "colorbar": {
             "outlinewidth": 0,
             "ticks": ""
            },
            "type": "choropleth"
           }
          ],
          "contour": [
           {
            "colorbar": {
             "outlinewidth": 0,
             "ticks": ""
            },
            "colorscale": [
             [
              0,
              "#0d0887"
             ],
             [
              0.1111111111111111,
              "#46039f"
             ],
             [
              0.2222222222222222,
              "#7201a8"
             ],
             [
              0.3333333333333333,
              "#9c179e"
             ],
             [
              0.4444444444444444,
              "#bd3786"
             ],
             [
              0.5555555555555556,
              "#d8576b"
             ],
             [
              0.6666666666666666,
              "#ed7953"
             ],
             [
              0.7777777777777778,
              "#fb9f3a"
             ],
             [
              0.8888888888888888,
              "#fdca26"
             ],
             [
              1,
              "#f0f921"
             ]
            ],
            "type": "contour"
           }
          ],
          "contourcarpet": [
           {
            "colorbar": {
             "outlinewidth": 0,
             "ticks": ""
            },
            "type": "contourcarpet"
           }
          ],
          "heatmap": [
           {
            "colorbar": {
             "outlinewidth": 0,
             "ticks": ""
            },
            "colorscale": [
             [
              0,
              "#0d0887"
             ],
             [
              0.1111111111111111,
              "#46039f"
             ],
             [
              0.2222222222222222,
              "#7201a8"
             ],
             [
              0.3333333333333333,
              "#9c179e"
             ],
             [
              0.4444444444444444,
              "#bd3786"
             ],
             [
              0.5555555555555556,
              "#d8576b"
             ],
             [
              0.6666666666666666,
              "#ed7953"
             ],
             [
              0.7777777777777778,
              "#fb9f3a"
             ],
             [
              0.8888888888888888,
              "#fdca26"
             ],
             [
              1,
              "#f0f921"
             ]
            ],
            "type": "heatmap"
           }
          ],
          "heatmapgl": [
           {
            "colorbar": {
             "outlinewidth": 0,
             "ticks": ""
            },
            "colorscale": [
             [
              0,
              "#0d0887"
             ],
             [
              0.1111111111111111,
              "#46039f"
             ],
             [
              0.2222222222222222,
              "#7201a8"
             ],
             [
              0.3333333333333333,
              "#9c179e"
             ],
             [
              0.4444444444444444,
              "#bd3786"
             ],
             [
              0.5555555555555556,
              "#d8576b"
             ],
             [
              0.6666666666666666,
              "#ed7953"
             ],
             [
              0.7777777777777778,
              "#fb9f3a"
             ],
             [
              0.8888888888888888,
              "#fdca26"
             ],
             [
              1,
              "#f0f921"
             ]
            ],
            "type": "heatmapgl"
           }
          ],
          "histogram": [
           {
            "marker": {
             "pattern": {
              "fillmode": "overlay",
              "size": 10,
              "solidity": 0.2
             }
            },
            "type": "histogram"
           }
          ],
          "histogram2d": [
           {
            "colorbar": {
             "outlinewidth": 0,
             "ticks": ""
            },
            "colorscale": [
             [
              0,
              "#0d0887"
             ],
             [
              0.1111111111111111,
              "#46039f"
             ],
             [
              0.2222222222222222,
              "#7201a8"
             ],
             [
              0.3333333333333333,
              "#9c179e"
             ],
             [
              0.4444444444444444,
              "#bd3786"
             ],
             [
              0.5555555555555556,
              "#d8576b"
             ],
             [
              0.6666666666666666,
              "#ed7953"
             ],
             [
              0.7777777777777778,
              "#fb9f3a"
             ],
             [
              0.8888888888888888,
              "#fdca26"
             ],
             [
              1,
              "#f0f921"
             ]
            ],
            "type": "histogram2d"
           }
          ],
          "histogram2dcontour": [
           {
            "colorbar": {
             "outlinewidth": 0,
             "ticks": ""
            },
            "colorscale": [
             [
              0,
              "#0d0887"
             ],
             [
              0.1111111111111111,
              "#46039f"
             ],
             [
              0.2222222222222222,
              "#7201a8"
             ],
             [
              0.3333333333333333,
              "#9c179e"
             ],
             [
              0.4444444444444444,
              "#bd3786"
             ],
             [
              0.5555555555555556,
              "#d8576b"
             ],
             [
              0.6666666666666666,
              "#ed7953"
             ],
             [
              0.7777777777777778,
              "#fb9f3a"
             ],
             [
              0.8888888888888888,
              "#fdca26"
             ],
             [
              1,
              "#f0f921"
             ]
            ],
            "type": "histogram2dcontour"
           }
          ],
          "mesh3d": [
           {
            "colorbar": {
             "outlinewidth": 0,
             "ticks": ""
            },
            "type": "mesh3d"
           }
          ],
          "parcoords": [
           {
            "line": {
             "colorbar": {
              "outlinewidth": 0,
              "ticks": ""
             }
            },
            "type": "parcoords"
           }
          ],
          "pie": [
           {
            "automargin": true,
            "type": "pie"
           }
          ],
          "scatter": [
           {
            "fillpattern": {
             "fillmode": "overlay",
             "size": 10,
             "solidity": 0.2
            },
            "type": "scatter"
           }
          ],
          "scatter3d": [
           {
            "line": {
             "colorbar": {
              "outlinewidth": 0,
              "ticks": ""
             }
            },
            "marker": {
             "colorbar": {
              "outlinewidth": 0,
              "ticks": ""
             }
            },
            "type": "scatter3d"
           }
          ],
          "scattercarpet": [
           {
            "marker": {
             "colorbar": {
              "outlinewidth": 0,
              "ticks": ""
             }
            },
            "type": "scattercarpet"
           }
          ],
          "scattergeo": [
           {
            "marker": {
             "colorbar": {
              "outlinewidth": 0,
              "ticks": ""
             }
            },
            "type": "scattergeo"
           }
          ],
          "scattergl": [
           {
            "marker": {
             "colorbar": {
              "outlinewidth": 0,
              "ticks": ""
             }
            },
            "type": "scattergl"
           }
          ],
          "scattermapbox": [
           {
            "marker": {
             "colorbar": {
              "outlinewidth": 0,
              "ticks": ""
             }
            },
            "type": "scattermapbox"
           }
          ],
          "scatterpolar": [
           {
            "marker": {
             "colorbar": {
              "outlinewidth": 0,
              "ticks": ""
             }
            },
            "type": "scatterpolar"
           }
          ],
          "scatterpolargl": [
           {
            "marker": {
             "colorbar": {
              "outlinewidth": 0,
              "ticks": ""
             }
            },
            "type": "scatterpolargl"
           }
          ],
          "scatterternary": [
           {
            "marker": {
             "colorbar": {
              "outlinewidth": 0,
              "ticks": ""
             }
            },
            "type": "scatterternary"
           }
          ],
          "surface": [
           {
            "colorbar": {
             "outlinewidth": 0,
             "ticks": ""
            },
            "colorscale": [
             [
              0,
              "#0d0887"
             ],
             [
              0.1111111111111111,
              "#46039f"
             ],
             [
              0.2222222222222222,
              "#7201a8"
             ],
             [
              0.3333333333333333,
              "#9c179e"
             ],
             [
              0.4444444444444444,
              "#bd3786"
             ],
             [
              0.5555555555555556,
              "#d8576b"
             ],
             [
              0.6666666666666666,
              "#ed7953"
             ],
             [
              0.7777777777777778,
              "#fb9f3a"
             ],
             [
              0.8888888888888888,
              "#fdca26"
             ],
             [
              1,
              "#f0f921"
             ]
            ],
            "type": "surface"
           }
          ],
          "table": [
           {
            "cells": {
             "fill": {
              "color": "#EBF0F8"
             },
             "line": {
              "color": "white"
             }
            },
            "header": {
             "fill": {
              "color": "#C8D4E3"
             },
             "line": {
              "color": "white"
             }
            },
            "type": "table"
           }
          ]
         },
         "layout": {
          "annotationdefaults": {
           "arrowcolor": "#2a3f5f",
           "arrowhead": 0,
           "arrowwidth": 1
          },
          "autotypenumbers": "strict",
          "coloraxis": {
           "colorbar": {
            "outlinewidth": 0,
            "ticks": ""
           }
          },
          "colorscale": {
           "diverging": [
            [
             0,
             "#8e0152"
            ],
            [
             0.1,
             "#c51b7d"
            ],
            [
             0.2,
             "#de77ae"
            ],
            [
             0.3,
             "#f1b6da"
            ],
            [
             0.4,
             "#fde0ef"
            ],
            [
             0.5,
             "#f7f7f7"
            ],
            [
             0.6,
             "#e6f5d0"
            ],
            [
             0.7,
             "#b8e186"
            ],
            [
             0.8,
             "#7fbc41"
            ],
            [
             0.9,
             "#4d9221"
            ],
            [
             1,
             "#276419"
            ]
           ],
           "sequential": [
            [
             0,
             "#0d0887"
            ],
            [
             0.1111111111111111,
             "#46039f"
            ],
            [
             0.2222222222222222,
             "#7201a8"
            ],
            [
             0.3333333333333333,
             "#9c179e"
            ],
            [
             0.4444444444444444,
             "#bd3786"
            ],
            [
             0.5555555555555556,
             "#d8576b"
            ],
            [
             0.6666666666666666,
             "#ed7953"
            ],
            [
             0.7777777777777778,
             "#fb9f3a"
            ],
            [
             0.8888888888888888,
             "#fdca26"
            ],
            [
             1,
             "#f0f921"
            ]
           ],
           "sequentialminus": [
            [
             0,
             "#0d0887"
            ],
            [
             0.1111111111111111,
             "#46039f"
            ],
            [
             0.2222222222222222,
             "#7201a8"
            ],
            [
             0.3333333333333333,
             "#9c179e"
            ],
            [
             0.4444444444444444,
             "#bd3786"
            ],
            [
             0.5555555555555556,
             "#d8576b"
            ],
            [
             0.6666666666666666,
             "#ed7953"
            ],
            [
             0.7777777777777778,
             "#fb9f3a"
            ],
            [
             0.8888888888888888,
             "#fdca26"
            ],
            [
             1,
             "#f0f921"
            ]
           ]
          },
          "colorway": [
           "#636efa",
           "#EF553B",
           "#00cc96",
           "#ab63fa",
           "#FFA15A",
           "#19d3f3",
           "#FF6692",
           "#B6E880",
           "#FF97FF",
           "#FECB52"
          ],
          "font": {
           "color": "#2a3f5f"
          },
          "geo": {
           "bgcolor": "white",
           "lakecolor": "white",
           "landcolor": "#E5ECF6",
           "showlakes": true,
           "showland": true,
           "subunitcolor": "white"
          },
          "hoverlabel": {
           "align": "left"
          },
          "hovermode": "closest",
          "mapbox": {
           "style": "light"
          },
          "paper_bgcolor": "white",
          "plot_bgcolor": "#E5ECF6",
          "polar": {
           "angularaxis": {
            "gridcolor": "white",
            "linecolor": "white",
            "ticks": ""
           },
           "bgcolor": "#E5ECF6",
           "radialaxis": {
            "gridcolor": "white",
            "linecolor": "white",
            "ticks": ""
           }
          },
          "scene": {
           "xaxis": {
            "backgroundcolor": "#E5ECF6",
            "gridcolor": "white",
            "gridwidth": 2,
            "linecolor": "white",
            "showbackground": true,
            "ticks": "",
            "zerolinecolor": "white"
           },
           "yaxis": {
            "backgroundcolor": "#E5ECF6",
            "gridcolor": "white",
            "gridwidth": 2,
            "linecolor": "white",
            "showbackground": true,
            "ticks": "",
            "zerolinecolor": "white"
           },
           "zaxis": {
            "backgroundcolor": "#E5ECF6",
            "gridcolor": "white",
            "gridwidth": 2,
            "linecolor": "white",
            "showbackground": true,
            "ticks": "",
            "zerolinecolor": "white"
           }
          },
          "shapedefaults": {
           "line": {
            "color": "#2a3f5f"
           }
          },
          "ternary": {
           "aaxis": {
            "gridcolor": "white",
            "linecolor": "white",
            "ticks": ""
           },
           "baxis": {
            "gridcolor": "white",
            "linecolor": "white",
            "ticks": ""
           },
           "bgcolor": "#E5ECF6",
           "caxis": {
            "gridcolor": "white",
            "linecolor": "white",
            "ticks": ""
           }
          },
          "title": {
           "x": 0.05
          },
          "xaxis": {
           "automargin": true,
           "gridcolor": "white",
           "linecolor": "white",
           "ticks": "",
           "title": {
            "standoff": 15
           },
           "zerolinecolor": "white",
           "zerolinewidth": 2
          },
          "yaxis": {
           "automargin": true,
           "gridcolor": "white",
           "linecolor": "white",
           "ticks": "",
           "title": {
            "standoff": 15
           },
           "zerolinecolor": "white",
           "zerolinewidth": 2
          }
         }
        },
        "xaxis": {
         "anchor": "y",
         "domain": [
          0,
          1
         ],
         "title": {
          "text": "fraud_bool"
         }
        },
        "yaxis": {
         "anchor": "x",
         "domain": [
          0,
          1
         ],
         "title": {
          "text": "percent"
         }
        }
       }
      }
     },
     "metadata": {},
     "output_type": "display_data"
    }
   ],
   "source": [
    "fig.show()"
   ]
  },
  {
   "cell_type": "markdown",
   "id": "9ae49cfd",
   "metadata": {},
   "source": [
    "Sumamos los valores nulos de las columnas y de las filas para comprobar si tenemos missings. En este caso podemos\n",
    "comprobar que no hay valores nulos. Realmente si que los hay pero ese tema lo abordaremos en el siguiente Notebook.\n"
   ]
  },
  {
   "cell_type": "code",
   "execution_count": 22,
   "id": "9deb42c8",
   "metadata": {},
   "outputs": [
    {
     "data": {
      "text/plain": [
       "fraud_bool                          0\n",
       "income                              0\n",
       "device_fraud_count                  0\n",
       "device_distinct_emails_8w           0\n",
       "keep_alive_session                  0\n",
       "device_os                           0\n",
       "session_length_in_minutes           0\n",
       "source                              0\n",
       "foreign_request                     0\n",
       "proposed_credit_limit               0\n",
       "has_other_cards                     0\n",
       "bank_months_count                   0\n",
       "phone_mobile_valid                  0\n",
       "phone_home_valid                    0\n",
       "housing_status                      0\n",
       "email_is_free                       0\n",
       "credit_risk_score                   0\n",
       "employment_status                   0\n",
       "date_of_birth_distinct_emails_4w    0\n",
       "bank_branch_count_8w                0\n",
       "velocity_4w                         0\n",
       "velocity_24h                        0\n",
       "velocity_6h                         0\n",
       "zip_count_4w                        0\n",
       "payment_type                        0\n",
       "intended_balcon_amount              0\n",
       "days_since_request                  0\n",
       "customer_age                        0\n",
       "current_address_months_count        0\n",
       "prev_address_months_count           0\n",
       "name_email_similarity               0\n",
       "month                               0\n",
       "dtype: int64"
      ]
     },
     "execution_count": 22,
     "metadata": {},
     "output_type": "execute_result"
    }
   ],
   "source": [
    "pd_series_null_columns = pd_fraud.isnull().sum().sort_values(ascending=False)\n",
    "pd_series_null_columns"
   ]
  },
  {
   "cell_type": "code",
   "execution_count": 23,
   "id": "d53b3268",
   "metadata": {},
   "outputs": [
    {
     "data": {
      "text/plain": [
       "(32,)"
      ]
     },
     "execution_count": 23,
     "metadata": {},
     "output_type": "execute_result"
    }
   ],
   "source": [
    "pd_series_null_columns.shape"
   ]
  },
  {
   "cell_type": "code",
   "execution_count": 24,
   "id": "30549949",
   "metadata": {},
   "outputs": [
    {
     "data": {
      "text/plain": [
       "0         0\n",
       "1         0\n",
       "2         0\n",
       "3         0\n",
       "4         0\n",
       "         ..\n",
       "999995    0\n",
       "999996    0\n",
       "999997    0\n",
       "999998    0\n",
       "999999    0\n",
       "Length: 1000000, dtype: int64"
      ]
     },
     "execution_count": 24,
     "metadata": {},
     "output_type": "execute_result"
    }
   ],
   "source": [
    "pd_series_null_rows = pd_fraud.isnull().sum(axis=1)\n",
    "pd_series_null_rows"
   ]
  },
  {
   "cell_type": "code",
   "execution_count": 25,
   "id": "c80374cd",
   "metadata": {},
   "outputs": [
    {
     "data": {
      "text/plain": [
       "(1000000,)"
      ]
     },
     "execution_count": 25,
     "metadata": {},
     "output_type": "execute_result"
    }
   ],
   "source": [
    "pd_series_null_rows.shape"
   ]
  },
  {
   "cell_type": "markdown",
   "id": "79e9b32b",
   "metadata": {},
   "source": [
    "Como en pd_series_null_rows no podemos ver la serie entera debido a la gran cantidad de filas,hayamos su máximo y vemos que es\n",
    "0. Por ello, de momento hasta el siguiente notebook, consideraremos que no hay missings ni en filas ni en columnas."
   ]
  },
  {
   "cell_type": "code",
   "execution_count": 26,
   "id": "e4fc15cc",
   "metadata": {},
   "outputs": [
    {
     "data": {
      "text/plain": [
       "0"
      ]
     },
     "execution_count": 26,
     "metadata": {},
     "output_type": "execute_result"
    }
   ],
   "source": [
    "pd_series_null_rows.max()"
   ]
  },
  {
   "cell_type": "markdown",
   "id": "803b53ba",
   "metadata": {},
   "source": [
    "Creamos un Dataframe que nos indica los valores nulos en columnas y el porcentaje en cada columna. Hacemos los mismo con \n",
    "las filas. Realmente no sería necesario al comprobar que no tenemos nulos. Sin embargo es una buena práctica\n",
    "realizarlo porque la mayoria de bases de datos tienen valores nulos."
   ]
  },
  {
   "cell_type": "code",
   "execution_count": 27,
   "id": "0b6bebb3",
   "metadata": {},
   "outputs": [],
   "source": [
    "pd_null_columnas = pd.DataFrame(pd_series_null_columns, columns=['nulos_columnas'])     \n",
    "pd_null_filas = pd.DataFrame(pd_series_null_rows, columns=['nulos_filas'])  \n",
    "pd_null_filas['fraud_bool'] = pd_fraud['fraud_bool'].copy()\n",
    "pd_null_columnas['porcentaje_columnas'] = pd_null_columnas['nulos_columnas']/pd_fraud.shape[0]\n",
    "pd_null_filas['porcentaje_filas']= pd_null_filas['nulos_filas']/pd_fraud.shape[1]"
   ]
  },
  {
   "cell_type": "code",
   "execution_count": 28,
   "id": "08a580e4",
   "metadata": {
    "scrolled": false
   },
   "outputs": [
    {
     "data": {
      "text/html": [
       "<div>\n",
       "<style scoped>\n",
       "    .dataframe tbody tr th:only-of-type {\n",
       "        vertical-align: middle;\n",
       "    }\n",
       "\n",
       "    .dataframe tbody tr th {\n",
       "        vertical-align: top;\n",
       "    }\n",
       "\n",
       "    .dataframe thead th {\n",
       "        text-align: right;\n",
       "    }\n",
       "</style>\n",
       "<table border=\"1\" class=\"dataframe\">\n",
       "  <thead>\n",
       "    <tr style=\"text-align: right;\">\n",
       "      <th></th>\n",
       "      <th>nulos_columnas</th>\n",
       "      <th>porcentaje_columnas</th>\n",
       "    </tr>\n",
       "  </thead>\n",
       "  <tbody>\n",
       "    <tr>\n",
       "      <th>fraud_bool</th>\n",
       "      <td>0</td>\n",
       "      <td>0.0</td>\n",
       "    </tr>\n",
       "    <tr>\n",
       "      <th>income</th>\n",
       "      <td>0</td>\n",
       "      <td>0.0</td>\n",
       "    </tr>\n",
       "    <tr>\n",
       "      <th>device_fraud_count</th>\n",
       "      <td>0</td>\n",
       "      <td>0.0</td>\n",
       "    </tr>\n",
       "    <tr>\n",
       "      <th>device_distinct_emails_8w</th>\n",
       "      <td>0</td>\n",
       "      <td>0.0</td>\n",
       "    </tr>\n",
       "    <tr>\n",
       "      <th>keep_alive_session</th>\n",
       "      <td>0</td>\n",
       "      <td>0.0</td>\n",
       "    </tr>\n",
       "    <tr>\n",
       "      <th>device_os</th>\n",
       "      <td>0</td>\n",
       "      <td>0.0</td>\n",
       "    </tr>\n",
       "    <tr>\n",
       "      <th>session_length_in_minutes</th>\n",
       "      <td>0</td>\n",
       "      <td>0.0</td>\n",
       "    </tr>\n",
       "    <tr>\n",
       "      <th>source</th>\n",
       "      <td>0</td>\n",
       "      <td>0.0</td>\n",
       "    </tr>\n",
       "    <tr>\n",
       "      <th>foreign_request</th>\n",
       "      <td>0</td>\n",
       "      <td>0.0</td>\n",
       "    </tr>\n",
       "    <tr>\n",
       "      <th>proposed_credit_limit</th>\n",
       "      <td>0</td>\n",
       "      <td>0.0</td>\n",
       "    </tr>\n",
       "    <tr>\n",
       "      <th>has_other_cards</th>\n",
       "      <td>0</td>\n",
       "      <td>0.0</td>\n",
       "    </tr>\n",
       "    <tr>\n",
       "      <th>bank_months_count</th>\n",
       "      <td>0</td>\n",
       "      <td>0.0</td>\n",
       "    </tr>\n",
       "    <tr>\n",
       "      <th>phone_mobile_valid</th>\n",
       "      <td>0</td>\n",
       "      <td>0.0</td>\n",
       "    </tr>\n",
       "    <tr>\n",
       "      <th>phone_home_valid</th>\n",
       "      <td>0</td>\n",
       "      <td>0.0</td>\n",
       "    </tr>\n",
       "    <tr>\n",
       "      <th>housing_status</th>\n",
       "      <td>0</td>\n",
       "      <td>0.0</td>\n",
       "    </tr>\n",
       "    <tr>\n",
       "      <th>email_is_free</th>\n",
       "      <td>0</td>\n",
       "      <td>0.0</td>\n",
       "    </tr>\n",
       "    <tr>\n",
       "      <th>credit_risk_score</th>\n",
       "      <td>0</td>\n",
       "      <td>0.0</td>\n",
       "    </tr>\n",
       "    <tr>\n",
       "      <th>employment_status</th>\n",
       "      <td>0</td>\n",
       "      <td>0.0</td>\n",
       "    </tr>\n",
       "    <tr>\n",
       "      <th>date_of_birth_distinct_emails_4w</th>\n",
       "      <td>0</td>\n",
       "      <td>0.0</td>\n",
       "    </tr>\n",
       "    <tr>\n",
       "      <th>bank_branch_count_8w</th>\n",
       "      <td>0</td>\n",
       "      <td>0.0</td>\n",
       "    </tr>\n",
       "    <tr>\n",
       "      <th>velocity_4w</th>\n",
       "      <td>0</td>\n",
       "      <td>0.0</td>\n",
       "    </tr>\n",
       "    <tr>\n",
       "      <th>velocity_24h</th>\n",
       "      <td>0</td>\n",
       "      <td>0.0</td>\n",
       "    </tr>\n",
       "    <tr>\n",
       "      <th>velocity_6h</th>\n",
       "      <td>0</td>\n",
       "      <td>0.0</td>\n",
       "    </tr>\n",
       "    <tr>\n",
       "      <th>zip_count_4w</th>\n",
       "      <td>0</td>\n",
       "      <td>0.0</td>\n",
       "    </tr>\n",
       "    <tr>\n",
       "      <th>payment_type</th>\n",
       "      <td>0</td>\n",
       "      <td>0.0</td>\n",
       "    </tr>\n",
       "    <tr>\n",
       "      <th>intended_balcon_amount</th>\n",
       "      <td>0</td>\n",
       "      <td>0.0</td>\n",
       "    </tr>\n",
       "    <tr>\n",
       "      <th>days_since_request</th>\n",
       "      <td>0</td>\n",
       "      <td>0.0</td>\n",
       "    </tr>\n",
       "    <tr>\n",
       "      <th>customer_age</th>\n",
       "      <td>0</td>\n",
       "      <td>0.0</td>\n",
       "    </tr>\n",
       "    <tr>\n",
       "      <th>current_address_months_count</th>\n",
       "      <td>0</td>\n",
       "      <td>0.0</td>\n",
       "    </tr>\n",
       "    <tr>\n",
       "      <th>prev_address_months_count</th>\n",
       "      <td>0</td>\n",
       "      <td>0.0</td>\n",
       "    </tr>\n",
       "    <tr>\n",
       "      <th>name_email_similarity</th>\n",
       "      <td>0</td>\n",
       "      <td>0.0</td>\n",
       "    </tr>\n",
       "    <tr>\n",
       "      <th>month</th>\n",
       "      <td>0</td>\n",
       "      <td>0.0</td>\n",
       "    </tr>\n",
       "  </tbody>\n",
       "</table>\n",
       "</div>"
      ],
      "text/plain": [
       "                                  nulos_columnas  porcentaje_columnas\n",
       "fraud_bool                                     0                  0.0\n",
       "income                                         0                  0.0\n",
       "device_fraud_count                             0                  0.0\n",
       "device_distinct_emails_8w                      0                  0.0\n",
       "keep_alive_session                             0                  0.0\n",
       "device_os                                      0                  0.0\n",
       "session_length_in_minutes                      0                  0.0\n",
       "source                                         0                  0.0\n",
       "foreign_request                                0                  0.0\n",
       "proposed_credit_limit                          0                  0.0\n",
       "has_other_cards                                0                  0.0\n",
       "bank_months_count                              0                  0.0\n",
       "phone_mobile_valid                             0                  0.0\n",
       "phone_home_valid                               0                  0.0\n",
       "housing_status                                 0                  0.0\n",
       "email_is_free                                  0                  0.0\n",
       "credit_risk_score                              0                  0.0\n",
       "employment_status                              0                  0.0\n",
       "date_of_birth_distinct_emails_4w               0                  0.0\n",
       "bank_branch_count_8w                           0                  0.0\n",
       "velocity_4w                                    0                  0.0\n",
       "velocity_24h                                   0                  0.0\n",
       "velocity_6h                                    0                  0.0\n",
       "zip_count_4w                                   0                  0.0\n",
       "payment_type                                   0                  0.0\n",
       "intended_balcon_amount                         0                  0.0\n",
       "days_since_request                             0                  0.0\n",
       "customer_age                                   0                  0.0\n",
       "current_address_months_count                   0                  0.0\n",
       "prev_address_months_count                      0                  0.0\n",
       "name_email_similarity                          0                  0.0\n",
       "month                                          0                  0.0"
      ]
     },
     "execution_count": 28,
     "metadata": {},
     "output_type": "execute_result"
    }
   ],
   "source": [
    "pd_null_columnas"
   ]
  },
  {
   "cell_type": "code",
   "execution_count": 29,
   "id": "7e997955",
   "metadata": {
    "scrolled": false
   },
   "outputs": [
    {
     "data": {
      "text/html": [
       "<div>\n",
       "<style scoped>\n",
       "    .dataframe tbody tr th:only-of-type {\n",
       "        vertical-align: middle;\n",
       "    }\n",
       "\n",
       "    .dataframe tbody tr th {\n",
       "        vertical-align: top;\n",
       "    }\n",
       "\n",
       "    .dataframe thead th {\n",
       "        text-align: right;\n",
       "    }\n",
       "</style>\n",
       "<table border=\"1\" class=\"dataframe\">\n",
       "  <thead>\n",
       "    <tr style=\"text-align: right;\">\n",
       "      <th></th>\n",
       "      <th>nulos_filas</th>\n",
       "      <th>fraud_bool</th>\n",
       "      <th>porcentaje_filas</th>\n",
       "    </tr>\n",
       "  </thead>\n",
       "  <tbody>\n",
       "    <tr>\n",
       "      <th>0</th>\n",
       "      <td>0</td>\n",
       "      <td>1</td>\n",
       "      <td>0.0</td>\n",
       "    </tr>\n",
       "    <tr>\n",
       "      <th>1</th>\n",
       "      <td>0</td>\n",
       "      <td>1</td>\n",
       "      <td>0.0</td>\n",
       "    </tr>\n",
       "    <tr>\n",
       "      <th>2</th>\n",
       "      <td>0</td>\n",
       "      <td>1</td>\n",
       "      <td>0.0</td>\n",
       "    </tr>\n",
       "    <tr>\n",
       "      <th>3</th>\n",
       "      <td>0</td>\n",
       "      <td>1</td>\n",
       "      <td>0.0</td>\n",
       "    </tr>\n",
       "    <tr>\n",
       "      <th>4</th>\n",
       "      <td>0</td>\n",
       "      <td>1</td>\n",
       "      <td>0.0</td>\n",
       "    </tr>\n",
       "    <tr>\n",
       "      <th>...</th>\n",
       "      <td>...</td>\n",
       "      <td>...</td>\n",
       "      <td>...</td>\n",
       "    </tr>\n",
       "    <tr>\n",
       "      <th>999995</th>\n",
       "      <td>0</td>\n",
       "      <td>0</td>\n",
       "      <td>0.0</td>\n",
       "    </tr>\n",
       "    <tr>\n",
       "      <th>999996</th>\n",
       "      <td>0</td>\n",
       "      <td>0</td>\n",
       "      <td>0.0</td>\n",
       "    </tr>\n",
       "    <tr>\n",
       "      <th>999997</th>\n",
       "      <td>0</td>\n",
       "      <td>0</td>\n",
       "      <td>0.0</td>\n",
       "    </tr>\n",
       "    <tr>\n",
       "      <th>999998</th>\n",
       "      <td>0</td>\n",
       "      <td>0</td>\n",
       "      <td>0.0</td>\n",
       "    </tr>\n",
       "    <tr>\n",
       "      <th>999999</th>\n",
       "      <td>0</td>\n",
       "      <td>0</td>\n",
       "      <td>0.0</td>\n",
       "    </tr>\n",
       "  </tbody>\n",
       "</table>\n",
       "<p>1000000 rows × 3 columns</p>\n",
       "</div>"
      ],
      "text/plain": [
       "        nulos_filas fraud_bool  porcentaje_filas\n",
       "0                 0          1               0.0\n",
       "1                 0          1               0.0\n",
       "2                 0          1               0.0\n",
       "3                 0          1               0.0\n",
       "4                 0          1               0.0\n",
       "...             ...        ...               ...\n",
       "999995            0          0               0.0\n",
       "999996            0          0               0.0\n",
       "999997            0          0               0.0\n",
       "999998            0          0               0.0\n",
       "999999            0          0               0.0\n",
       "\n",
       "[1000000 rows x 3 columns]"
      ]
     },
     "execution_count": 29,
     "metadata": {},
     "output_type": "execute_result"
    }
   ],
   "source": [
    "pd_null_filas"
   ]
  },
  {
   "cell_type": "markdown",
   "id": "79f5f5b5",
   "metadata": {},
   "source": [
    "Aquí lo que estamos ahciendo es hacer una lista con aquellas columnas que su pocertaje de nulos sea menos que 0,9. \n",
    "Posteriormente creamos un dataframe que contenga todas las columnas en la lista anterior. Ese sería el dataframe con el número\n",
    "de nulos que consideramos óptimo para tratar."
   ]
  },
  {
   "cell_type": "code",
   "execution_count": 30,
   "id": "08f68d10",
   "metadata": {},
   "outputs": [
    {
     "data": {
      "text/plain": [
       "(1000000, 32)"
      ]
     },
     "execution_count": 30,
     "metadata": {},
     "output_type": "execute_result"
    }
   ],
   "source": [
    "threshold=0.9\n",
    "list_vars_not_null = list(pd_null_columnas[pd_null_columnas['porcentaje_columnas']<threshold].index)\n",
    "pd_fraud_filter_null = pd_fraud.loc[:, list_vars_not_null]\n",
    "pd_fraud_filter_null.shape"
   ]
  },
  {
   "cell_type": "markdown",
   "id": "db67744c",
   "metadata": {},
   "source": [
    "Por último en este Notebook comprobamos que el actual dataframe sobre el que seguiremos trabajando (pd_fraud_filter_null)\n",
    "tiene las columnas agrupadas tal y como hemos determinado anteriormente."
   ]
  },
  {
   "cell_type": "code",
   "execution_count": 31,
   "id": "c9c398b9",
   "metadata": {},
   "outputs": [
    {
     "data": {
      "text/plain": [
       "payment_type          category\n",
       "employment_status     category\n",
       "housing_status        category\n",
       "email_is_free         category\n",
       "phone_home_valid      category\n",
       "phone_mobile_valid    category\n",
       "has_other_cards       category\n",
       "foreign_request       category\n",
       "device_os             category\n",
       "keep_alive_session    category\n",
       "fraud_bool              object\n",
       "dtype: object"
      ]
     },
     "execution_count": 31,
     "metadata": {},
     "output_type": "execute_result"
    }
   ],
   "source": [
    "pd_fraud_filter_null[ lista_variables_categoricas].dtypes"
   ]
  },
  {
   "cell_type": "code",
   "execution_count": 32,
   "id": "4438c549",
   "metadata": {},
   "outputs": [
    {
     "data": {
      "text/html": [
       "<div>\n",
       "<style scoped>\n",
       "    .dataframe tbody tr th:only-of-type {\n",
       "        vertical-align: middle;\n",
       "    }\n",
       "\n",
       "    .dataframe tbody tr th {\n",
       "        vertical-align: top;\n",
       "    }\n",
       "\n",
       "    .dataframe thead th {\n",
       "        text-align: right;\n",
       "    }\n",
       "</style>\n",
       "<table border=\"1\" class=\"dataframe\">\n",
       "  <thead>\n",
       "    <tr style=\"text-align: right;\">\n",
       "      <th></th>\n",
       "      <th>income</th>\n",
       "      <th>device_fraud_count</th>\n",
       "      <th>device_distinct_emails_8w</th>\n",
       "      <th>session_length_in_minutes</th>\n",
       "      <th>source</th>\n",
       "      <th>proposed_credit_limit</th>\n",
       "      <th>bank_months_count</th>\n",
       "      <th>credit_risk_score</th>\n",
       "      <th>date_of_birth_distinct_emails_4w</th>\n",
       "      <th>bank_branch_count_8w</th>\n",
       "      <th>velocity_4w</th>\n",
       "      <th>velocity_24h</th>\n",
       "      <th>velocity_6h</th>\n",
       "      <th>zip_count_4w</th>\n",
       "      <th>intended_balcon_amount</th>\n",
       "      <th>days_since_request</th>\n",
       "      <th>customer_age</th>\n",
       "      <th>current_address_months_count</th>\n",
       "      <th>prev_address_months_count</th>\n",
       "      <th>name_email_similarity</th>\n",
       "      <th>month</th>\n",
       "    </tr>\n",
       "  </thead>\n",
       "  <tbody>\n",
       "    <tr>\n",
       "      <th>0</th>\n",
       "      <td>0.9</td>\n",
       "      <td>0</td>\n",
       "      <td>1</td>\n",
       "      <td>3.888115</td>\n",
       "      <td>INTERNET</td>\n",
       "      <td>500.0</td>\n",
       "      <td>24</td>\n",
       "      <td>185</td>\n",
       "      <td>6</td>\n",
       "      <td>1</td>\n",
       "      <td>3863.647740</td>\n",
       "      <td>3134.319630</td>\n",
       "      <td>10650.765523</td>\n",
       "      <td>769</td>\n",
       "      <td>-1.331345</td>\n",
       "      <td>0.020925</td>\n",
       "      <td>50</td>\n",
       "      <td>88</td>\n",
       "      <td>-1</td>\n",
       "      <td>0.166828</td>\n",
       "      <td>7</td>\n",
       "    </tr>\n",
       "    <tr>\n",
       "      <th>1</th>\n",
       "      <td>0.9</td>\n",
       "      <td>0</td>\n",
       "      <td>1</td>\n",
       "      <td>31.798819</td>\n",
       "      <td>INTERNET</td>\n",
       "      <td>1500.0</td>\n",
       "      <td>15</td>\n",
       "      <td>259</td>\n",
       "      <td>3</td>\n",
       "      <td>718</td>\n",
       "      <td>3124.298166</td>\n",
       "      <td>2670.918292</td>\n",
       "      <td>534.047319</td>\n",
       "      <td>366</td>\n",
       "      <td>-0.816224</td>\n",
       "      <td>0.005418</td>\n",
       "      <td>50</td>\n",
       "      <td>144</td>\n",
       "      <td>-1</td>\n",
       "      <td>0.296286</td>\n",
       "      <td>7</td>\n",
       "    </tr>\n",
       "    <tr>\n",
       "      <th>2</th>\n",
       "      <td>0.9</td>\n",
       "      <td>0</td>\n",
       "      <td>1</td>\n",
       "      <td>4.728705</td>\n",
       "      <td>INTERNET</td>\n",
       "      <td>200.0</td>\n",
       "      <td>-1</td>\n",
       "      <td>177</td>\n",
       "      <td>14</td>\n",
       "      <td>1</td>\n",
       "      <td>3159.590679</td>\n",
       "      <td>2893.621498</td>\n",
       "      <td>4048.534263</td>\n",
       "      <td>870</td>\n",
       "      <td>-0.755728</td>\n",
       "      <td>3.108549</td>\n",
       "      <td>40</td>\n",
       "      <td>132</td>\n",
       "      <td>-1</td>\n",
       "      <td>0.044985</td>\n",
       "      <td>7</td>\n",
       "    </tr>\n",
       "    <tr>\n",
       "      <th>3</th>\n",
       "      <td>0.9</td>\n",
       "      <td>0</td>\n",
       "      <td>1</td>\n",
       "      <td>2.047904</td>\n",
       "      <td>INTERNET</td>\n",
       "      <td>200.0</td>\n",
       "      <td>31</td>\n",
       "      <td>110</td>\n",
       "      <td>6</td>\n",
       "      <td>1921</td>\n",
       "      <td>3022.261812</td>\n",
       "      <td>4054.908412</td>\n",
       "      <td>3457.064063</td>\n",
       "      <td>810</td>\n",
       "      <td>-1.205124</td>\n",
       "      <td>0.019079</td>\n",
       "      <td>50</td>\n",
       "      <td>22</td>\n",
       "      <td>-1</td>\n",
       "      <td>0.159511</td>\n",
       "      <td>7</td>\n",
       "    </tr>\n",
       "    <tr>\n",
       "      <th>4</th>\n",
       "      <td>0.9</td>\n",
       "      <td>0</td>\n",
       "      <td>1</td>\n",
       "      <td>3.775225</td>\n",
       "      <td>INTERNET</td>\n",
       "      <td>1500.0</td>\n",
       "      <td>31</td>\n",
       "      <td>295</td>\n",
       "      <td>2</td>\n",
       "      <td>1990</td>\n",
       "      <td>3087.670952</td>\n",
       "      <td>2728.237159</td>\n",
       "      <td>5020.341679</td>\n",
       "      <td>890</td>\n",
       "      <td>-0.773276</td>\n",
       "      <td>0.004441</td>\n",
       "      <td>50</td>\n",
       "      <td>218</td>\n",
       "      <td>-1</td>\n",
       "      <td>0.596414</td>\n",
       "      <td>7</td>\n",
       "    </tr>\n",
       "    <tr>\n",
       "      <th>5</th>\n",
       "      <td>0.3</td>\n",
       "      <td>0</td>\n",
       "      <td>1</td>\n",
       "      <td>4.815073</td>\n",
       "      <td>INTERNET</td>\n",
       "      <td>200.0</td>\n",
       "      <td>15</td>\n",
       "      <td>199</td>\n",
       "      <td>13</td>\n",
       "      <td>5</td>\n",
       "      <td>5078.692467</td>\n",
       "      <td>3804.803402</td>\n",
       "      <td>3223.248406</td>\n",
       "      <td>732</td>\n",
       "      <td>-0.748282</td>\n",
       "      <td>0.028231</td>\n",
       "      <td>30</td>\n",
       "      <td>30</td>\n",
       "      <td>-1</td>\n",
       "      <td>0.143921</td>\n",
       "      <td>7</td>\n",
       "    </tr>\n",
       "    <tr>\n",
       "      <th>6</th>\n",
       "      <td>0.7</td>\n",
       "      <td>0</td>\n",
       "      <td>1</td>\n",
       "      <td>1.558977</td>\n",
       "      <td>INTERNET</td>\n",
       "      <td>1500.0</td>\n",
       "      <td>30</td>\n",
       "      <td>272</td>\n",
       "      <td>10</td>\n",
       "      <td>13</td>\n",
       "      <td>3089.788379</td>\n",
       "      <td>2653.430035</td>\n",
       "      <td>5515.771548</td>\n",
       "      <td>876</td>\n",
       "      <td>-0.278994</td>\n",
       "      <td>0.030680</td>\n",
       "      <td>30</td>\n",
       "      <td>152</td>\n",
       "      <td>-1</td>\n",
       "      <td>0.321554</td>\n",
       "      <td>7</td>\n",
       "    </tr>\n",
       "    <tr>\n",
       "      <th>7</th>\n",
       "      <td>0.9</td>\n",
       "      <td>0</td>\n",
       "      <td>1</td>\n",
       "      <td>2.637472</td>\n",
       "      <td>INTERNET</td>\n",
       "      <td>200.0</td>\n",
       "      <td>28</td>\n",
       "      <td>83</td>\n",
       "      <td>1</td>\n",
       "      <td>40</td>\n",
       "      <td>3826.129170</td>\n",
       "      <td>6733.703890</td>\n",
       "      <td>4736.214496</td>\n",
       "      <td>901</td>\n",
       "      <td>-1.265721</td>\n",
       "      <td>0.034557</td>\n",
       "      <td>50</td>\n",
       "      <td>18</td>\n",
       "      <td>-1</td>\n",
       "      <td>0.064817</td>\n",
       "      <td>7</td>\n",
       "    </tr>\n",
       "    <tr>\n",
       "      <th>8</th>\n",
       "      <td>0.7</td>\n",
       "      <td>0</td>\n",
       "      <td>1</td>\n",
       "      <td>2.175419</td>\n",
       "      <td>INTERNET</td>\n",
       "      <td>1500.0</td>\n",
       "      <td>30</td>\n",
       "      <td>222</td>\n",
       "      <td>4</td>\n",
       "      <td>2134</td>\n",
       "      <td>3089.271130</td>\n",
       "      <td>3849.761426</td>\n",
       "      <td>6101.250655</td>\n",
       "      <td>933</td>\n",
       "      <td>-1.442082</td>\n",
       "      <td>0.020691</td>\n",
       "      <td>40</td>\n",
       "      <td>64</td>\n",
       "      <td>-1</td>\n",
       "      <td>0.065938</td>\n",
       "      <td>7</td>\n",
       "    </tr>\n",
       "    <tr>\n",
       "      <th>9</th>\n",
       "      <td>0.9</td>\n",
       "      <td>0</td>\n",
       "      <td>1</td>\n",
       "      <td>24.040726</td>\n",
       "      <td>INTERNET</td>\n",
       "      <td>200.0</td>\n",
       "      <td>25</td>\n",
       "      <td>118</td>\n",
       "      <td>2</td>\n",
       "      <td>8</td>\n",
       "      <td>3061.245889</td>\n",
       "      <td>3793.831786</td>\n",
       "      <td>4504.470396</td>\n",
       "      <td>1176</td>\n",
       "      <td>-1.070271</td>\n",
       "      <td>0.016809</td>\n",
       "      <td>40</td>\n",
       "      <td>60</td>\n",
       "      <td>-1</td>\n",
       "      <td>0.700096</td>\n",
       "      <td>7</td>\n",
       "    </tr>\n",
       "  </tbody>\n",
       "</table>\n",
       "</div>"
      ],
      "text/plain": [
       "   income  device_fraud_count  device_distinct_emails_8w  \\\n",
       "0     0.9                   0                          1   \n",
       "1     0.9                   0                          1   \n",
       "2     0.9                   0                          1   \n",
       "3     0.9                   0                          1   \n",
       "4     0.9                   0                          1   \n",
       "5     0.3                   0                          1   \n",
       "6     0.7                   0                          1   \n",
       "7     0.9                   0                          1   \n",
       "8     0.7                   0                          1   \n",
       "9     0.9                   0                          1   \n",
       "\n",
       "   session_length_in_minutes    source  proposed_credit_limit  \\\n",
       "0                   3.888115  INTERNET                  500.0   \n",
       "1                  31.798819  INTERNET                 1500.0   \n",
       "2                   4.728705  INTERNET                  200.0   \n",
       "3                   2.047904  INTERNET                  200.0   \n",
       "4                   3.775225  INTERNET                 1500.0   \n",
       "5                   4.815073  INTERNET                  200.0   \n",
       "6                   1.558977  INTERNET                 1500.0   \n",
       "7                   2.637472  INTERNET                  200.0   \n",
       "8                   2.175419  INTERNET                 1500.0   \n",
       "9                  24.040726  INTERNET                  200.0   \n",
       "\n",
       "   bank_months_count  credit_risk_score  date_of_birth_distinct_emails_4w  \\\n",
       "0                 24                185                                 6   \n",
       "1                 15                259                                 3   \n",
       "2                 -1                177                                14   \n",
       "3                 31                110                                 6   \n",
       "4                 31                295                                 2   \n",
       "5                 15                199                                13   \n",
       "6                 30                272                                10   \n",
       "7                 28                 83                                 1   \n",
       "8                 30                222                                 4   \n",
       "9                 25                118                                 2   \n",
       "\n",
       "   bank_branch_count_8w  velocity_4w  velocity_24h   velocity_6h  \\\n",
       "0                     1  3863.647740   3134.319630  10650.765523   \n",
       "1                   718  3124.298166   2670.918292    534.047319   \n",
       "2                     1  3159.590679   2893.621498   4048.534263   \n",
       "3                  1921  3022.261812   4054.908412   3457.064063   \n",
       "4                  1990  3087.670952   2728.237159   5020.341679   \n",
       "5                     5  5078.692467   3804.803402   3223.248406   \n",
       "6                    13  3089.788379   2653.430035   5515.771548   \n",
       "7                    40  3826.129170   6733.703890   4736.214496   \n",
       "8                  2134  3089.271130   3849.761426   6101.250655   \n",
       "9                     8  3061.245889   3793.831786   4504.470396   \n",
       "\n",
       "   zip_count_4w  intended_balcon_amount  days_since_request  customer_age  \\\n",
       "0           769               -1.331345            0.020925            50   \n",
       "1           366               -0.816224            0.005418            50   \n",
       "2           870               -0.755728            3.108549            40   \n",
       "3           810               -1.205124            0.019079            50   \n",
       "4           890               -0.773276            0.004441            50   \n",
       "5           732               -0.748282            0.028231            30   \n",
       "6           876               -0.278994            0.030680            30   \n",
       "7           901               -1.265721            0.034557            50   \n",
       "8           933               -1.442082            0.020691            40   \n",
       "9          1176               -1.070271            0.016809            40   \n",
       "\n",
       "   current_address_months_count  prev_address_months_count  \\\n",
       "0                            88                         -1   \n",
       "1                           144                         -1   \n",
       "2                           132                         -1   \n",
       "3                            22                         -1   \n",
       "4                           218                         -1   \n",
       "5                            30                         -1   \n",
       "6                           152                         -1   \n",
       "7                            18                         -1   \n",
       "8                            64                         -1   \n",
       "9                            60                         -1   \n",
       "\n",
       "   name_email_similarity  month  \n",
       "0               0.166828      7  \n",
       "1               0.296286      7  \n",
       "2               0.044985      7  \n",
       "3               0.159511      7  \n",
       "4               0.596414      7  \n",
       "5               0.143921      7  \n",
       "6               0.321554      7  \n",
       "7               0.064817      7  \n",
       "8               0.065938      7  \n",
       "9               0.700096      7  "
      ]
     },
     "execution_count": 32,
     "metadata": {},
     "output_type": "execute_result"
    }
   ],
   "source": [
    "columnas_no_categoricas = [col for col in pd_fraud_filter_null.columns if col not in lista_variables_categoricas]\n",
    "pd_fraud_filter_null[columnas_no_categoricas].head(10)"
   ]
  },
  {
   "cell_type": "code",
   "execution_count": 33,
   "id": "763d9f87",
   "metadata": {},
   "outputs": [
    {
     "data": {
      "text/plain": [
       "(1000000, 32)"
      ]
     },
     "execution_count": 33,
     "metadata": {},
     "output_type": "execute_result"
    }
   ],
   "source": [
    "pd_fraud_filter_null.shape"
   ]
  },
  {
   "cell_type": "markdown",
   "id": "df6122b6",
   "metadata": {},
   "source": [
    "Pasamos el dataframe a CSV para continuar en el siguiente Notebook."
   ]
  },
  {
   "cell_type": "code",
   "execution_count": 35,
   "id": "56f9b933",
   "metadata": {},
   "outputs": [],
   "source": [
    "pd_fraud_filter_null.to_csv(\"../data/pd_data_initial_preprocessing.csv\", index=False)"
   ]
  },
  {
   "cell_type": "code",
   "execution_count": null,
   "id": "db1b7841",
   "metadata": {},
   "outputs": [],
   "source": []
  },
  {
   "cell_type": "code",
   "execution_count": null,
   "id": "30cb5c5f",
   "metadata": {},
   "outputs": [],
   "source": []
  }
 ],
 "metadata": {
  "kernelspec": {
   "display_name": "PracticaEDA",
   "language": "python",
   "name": "python3"
  },
  "language_info": {
   "codemirror_mode": {
    "name": "ipython",
    "version": 3
   },
   "file_extension": ".py",
   "mimetype": "text/x-python",
   "name": "python",
   "nbconvert_exporter": "python",
   "pygments_lexer": "ipython3",
   "version": "3.9.18"
  }
 },
 "nbformat": 4,
 "nbformat_minor": 5
}
